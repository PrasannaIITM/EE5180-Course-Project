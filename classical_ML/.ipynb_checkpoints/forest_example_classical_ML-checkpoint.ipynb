{
 "cells": [
  {
   "cell_type": "code",
   "execution_count": 11,
   "metadata": {},
   "outputs": [],
   "source": [
    "from sklearn.preprocessing import LabelEncoder\n",
    "from sklearn.metrics import accuracy_score\n",
    "from sklearn.model_selection import train_test_split\n",
    "import pandas as pd\n",
    "import numpy as np\n",
    "np.random.seed(0)\n",
    "import datetime \n",
    "from catboost import CatBoostClassifier\n",
    "import numpy as np\n",
    "import pandas as pd\n",
    "from sklearn.metrics import accuracy_score\n",
    "from sklearn.svm import LinearSVC\n",
    "from sklearn import preprocessing\n",
    "import os\n",
    "from catboost import CatBoostClassifier\n",
    "\n",
    "import wget\n",
    "from pathlib import Path\n",
    "import shutil\n",
    "import gzip\n",
    "\n",
    "from matplotlib import pyplot as plt\n",
    "%matplotlib inline"
   ]
  },
  {
   "cell_type": "markdown",
   "metadata": {},
   "source": [
    "# Download ForestCoverType dataset"
   ]
  },
  {
   "cell_type": "code",
   "execution_count": 12,
   "metadata": {},
   "outputs": [],
   "source": [
    "target = \"Covertype\"\n",
    "\n",
    "bool_columns = [\n",
    "    \"Wilderness_Area1\", \"Wilderness_Area2\", \"Wilderness_Area3\",\n",
    "    \"Wilderness_Area4\", \"Soil_Type1\", \"Soil_Type2\", \"Soil_Type3\", \"Soil_Type4\",\n",
    "    \"Soil_Type5\", \"Soil_Type6\", \"Soil_Type7\", \"Soil_Type8\", \"Soil_Type9\",\n",
    "    \"Soil_Type10\", \"Soil_Type11\", \"Soil_Type12\", \"Soil_Type13\", \"Soil_Type14\",\n",
    "    \"Soil_Type15\", \"Soil_Type16\", \"Soil_Type17\", \"Soil_Type18\", \"Soil_Type19\",\n",
    "    \"Soil_Type20\", \"Soil_Type21\", \"Soil_Type22\", \"Soil_Type23\", \"Soil_Type24\",\n",
    "    \"Soil_Type25\", \"Soil_Type26\", \"Soil_Type27\", \"Soil_Type28\", \"Soil_Type29\",\n",
    "    \"Soil_Type30\", \"Soil_Type31\", \"Soil_Type32\", \"Soil_Type33\", \"Soil_Type34\",\n",
    "    \"Soil_Type35\", \"Soil_Type36\", \"Soil_Type37\", \"Soil_Type38\", \"Soil_Type39\",\n",
    "    \"Soil_Type40\"\n",
    "]\n",
    "\n",
    "int_columns = [\n",
    "    \"Elevation\", \"Aspect\", \"Slope\", \"Horizontal_Distance_To_Hydrology\",\n",
    "    \"Vertical_Distance_To_Hydrology\", \"Horizontal_Distance_To_Roadways\",\n",
    "    \"Hillshade_9am\", \"Hillshade_Noon\", \"Hillshade_3pm\",\n",
    "    \"Horizontal_Distance_To_Fire_Points\"\n",
    "]\n",
    "\n",
    "feature_columns = (\n",
    "    int_columns + bool_columns + [target])\n"
   ]
  },
  {
   "cell_type": "code",
   "execution_count": 13,
   "metadata": {},
   "outputs": [],
   "source": [
    "train = pd.read_csv(\"train_forest_cover.csv\", header=None, names=feature_columns)\n",
    "test = pd.read_csv(\"test_forest_cover.csv\", header=None, names=feature_columns)"
   ]
  },
  {
   "cell_type": "code",
   "execution_count": 16,
   "metadata": {},
   "outputs": [
    {
     "data": {
      "text/plain": [
       "(3025, 55)"
      ]
     },
     "execution_count": 16,
     "metadata": {},
     "output_type": "execute_result"
    }
   ],
   "source": [
    "test.shape"
   ]
  },
  {
   "cell_type": "markdown",
   "metadata": {},
   "source": [
    "# Simple preprocessing\n",
    "\n",
    "Label encode categorical features and fill empty cells."
   ]
  },
  {
   "cell_type": "code",
   "execution_count": 6,
   "metadata": {},
   "outputs": [
    {
     "name": "stdout",
     "output_type": "stream",
     "text": [
      "Elevation 1626\n",
      "Aspect 362\n",
      "Slope 51\n",
      "Horizontal_Distance_To_Hydrology 382\n",
      "Vertical_Distance_To_Hydrology 405\n",
      "Horizontal_Distance_To_Roadways 3013\n",
      "Hillshade_9am 177\n",
      "Hillshade_Noon 137\n",
      "Hillshade_3pm 248\n",
      "Horizontal_Distance_To_Fire_Points 2520\n",
      "Wilderness_Area1 3\n",
      "Wilderness_Area2 3\n",
      "Wilderness_Area3 3\n",
      "Wilderness_Area4 3\n",
      "Soil_Type1 3\n",
      "Soil_Type2 3\n",
      "Soil_Type3 3\n",
      "Soil_Type4 3\n",
      "Soil_Type5 3\n",
      "Soil_Type6 3\n",
      "Soil_Type7 2\n",
      "Soil_Type8 2\n",
      "Soil_Type9 3\n",
      "Soil_Type10 3\n",
      "Soil_Type11 3\n",
      "Soil_Type12 3\n",
      "Soil_Type13 3\n",
      "Soil_Type14 3\n",
      "Soil_Type15 2\n",
      "Soil_Type16 3\n",
      "Soil_Type17 3\n",
      "Soil_Type18 3\n",
      "Soil_Type19 3\n",
      "Soil_Type20 3\n",
      "Soil_Type21 3\n",
      "Soil_Type22 3\n",
      "Soil_Type23 3\n",
      "Soil_Type24 3\n",
      "Soil_Type25 3\n",
      "Soil_Type26 3\n",
      "Soil_Type27 3\n",
      "Soil_Type28 3\n",
      "Soil_Type29 3\n",
      "Soil_Type30 3\n",
      "Soil_Type31 3\n",
      "Soil_Type32 3\n",
      "Soil_Type33 3\n",
      "Soil_Type34 3\n",
      "Soil_Type35 3\n",
      "Soil_Type36 3\n",
      "Soil_Type37 3\n",
      "Soil_Type38 3\n",
      "Soil_Type39 3\n",
      "Soil_Type40 3\n",
      "Covertype 8\n",
      "Elevation 1290\n",
      "Aspect 362\n",
      "Slope 47\n",
      "Horizontal_Distance_To_Hydrology 252\n",
      "Vertical_Distance_To_Hydrology 312\n",
      "Horizontal_Distance_To_Roadways 1527\n",
      "Hillshade_9am 150\n",
      "Hillshade_Noon 125\n",
      "Hillshade_3pm 234\n",
      "Horizontal_Distance_To_Fire_Points 1402\n",
      "Wilderness_Area1 3\n",
      "Wilderness_Area2 3\n",
      "Wilderness_Area3 3\n",
      "Wilderness_Area4 3\n",
      "Soil_Type1 3\n",
      "Soil_Type2 3\n",
      "Soil_Type3 3\n",
      "Soil_Type4 3\n",
      "Soil_Type5 3\n",
      "Soil_Type6 3\n",
      "Soil_Type7 2\n",
      "Soil_Type8 3\n",
      "Soil_Type9 3\n",
      "Soil_Type10 3\n",
      "Soil_Type11 3\n",
      "Soil_Type12 3\n",
      "Soil_Type13 3\n",
      "Soil_Type14 3\n",
      "Soil_Type15 2\n",
      "Soil_Type16 3\n",
      "Soil_Type17 3\n",
      "Soil_Type18 3\n",
      "Soil_Type19 3\n",
      "Soil_Type20 3\n",
      "Soil_Type21 3\n",
      "Soil_Type22 3\n",
      "Soil_Type23 3\n",
      "Soil_Type24 3\n",
      "Soil_Type25 2\n",
      "Soil_Type26 3\n",
      "Soil_Type27 3\n",
      "Soil_Type28 3\n",
      "Soil_Type29 3\n",
      "Soil_Type30 3\n",
      "Soil_Type31 3\n",
      "Soil_Type32 3\n",
      "Soil_Type33 3\n",
      "Soil_Type34 3\n",
      "Soil_Type35 3\n",
      "Soil_Type36 3\n",
      "Soil_Type37 3\n",
      "Soil_Type38 3\n",
      "Soil_Type39 3\n",
      "Soil_Type40 3\n",
      "Covertype 8\n"
     ]
    }
   ],
   "source": [
    "categorical_columns = []\n",
    "categorical_dims =  {}\n",
    "for col in train.columns[train.dtypes == object]:\n",
    "    print(col, train[col].nunique())\n",
    "    l_enc = LabelEncoder()\n",
    "    train[col] = train[col].fillna(\"VV_likely\")\n",
    "    train[col] = l_enc.fit_transform(train[col].values)\n",
    "    categorical_columns.append(col)\n",
    "    categorical_dims[col] = len(l_enc.classes_)\n",
    "\n",
    "for col in train.columns[train.dtypes == 'float64']:\n",
    "    train.fillna(train.loc[train_indices, col].mean(), inplace=True)\n",
    "    \n",
    "categorical_columns = []\n",
    "categorical_dims =  {}\n",
    "for col in test.columns[test.dtypes == object]:\n",
    "    print(col, test[col].nunique())\n",
    "    l_enc = LabelEncoder()\n",
    "    train[col] = test[col].fillna(\"VV_likely\")\n",
    "    train[col] = l_enc.fit_transform(train[col].values)\n",
    "    categorical_columns.append(col)\n",
    "    categorical_dims[col] = len(l_enc.classes_)\n",
    "\n",
    "for col in train.columns[test.dtypes == 'float64']:\n",
    "    train.fillna(test.loc[train_indices, col].mean(), inplace=True)"
   ]
  },
  {
   "cell_type": "markdown",
   "metadata": {},
   "source": [
    "# Define categorical features for categorical embeddings"
   ]
  },
  {
   "cell_type": "code",
   "execution_count": 7,
   "metadata": {},
   "outputs": [],
   "source": [
    "unused_feat = []\n",
    "\n",
    "features = [ col for col in train.columns if col not in unused_feat+[target]] \n",
    "\n",
    "cat_idxs = [ i for i, f in enumerate(features) if f in categorical_columns]\n",
    "\n",
    "cat_dims = [ categorical_dims[f] for i, f in enumerate(features) if f in categorical_columns]\n"
   ]
  },
  {
   "cell_type": "markdown",
   "metadata": {},
   "source": [
    "# Network parameters"
   ]
  },
  {
   "cell_type": "markdown",
   "metadata": {},
   "source": [
    "# Training"
   ]
  },
  {
   "cell_type": "markdown",
   "metadata": {},
   "source": [
    "# XGB"
   ]
  },
  {
   "cell_type": "code",
   "execution_count": 8,
   "metadata": {},
   "outputs": [],
   "source": [
    "n_estimators = 1000 if not os.getenv(\"CI\", False) else 20"
   ]
  },
  {
   "cell_type": "code",
   "execution_count": 9,
   "metadata": {},
   "outputs": [],
   "source": [
    "\n",
    "X_train = train[features]\n",
    "y_train = train[target]\n",
    "X_test = test[features]\n",
    "y_test = test[target]"
   ]
  },
  {
   "cell_type": "code",
   "execution_count": null,
   "metadata": {},
   "outputs": [],
   "source": []
  },
  {
   "cell_type": "code",
   "execution_count": 10,
   "metadata": {},
   "outputs": [
    {
     "data": {
      "text/plain": [
       "(12097, 54)"
      ]
     },
     "execution_count": 10,
     "metadata": {},
     "output_type": "execute_result"
    }
   ],
   "source": [
    "X_train.shape"
   ]
  },
  {
   "cell_type": "code",
   "execution_count": 10,
   "metadata": {
    "scrolled": true
   },
   "outputs": [
    {
     "name": "stderr",
     "output_type": "stream",
     "text": [
      "/home/neham/anaconda3/envs/seathru/lib/python3.9/site-packages/xgboost/sklearn.py:1224: UserWarning: The use of label encoder in XGBClassifier is deprecated and will be removed in a future release. To remove this warning, do the following: 1) Pass option use_label_encoder=False when constructing XGBClassifier object; and 2) Encode your labels (y) as integers starting with 0, i.e. 0, 1, 2, ..., [num_class - 1].\n",
      "  warnings.warn(label_encoder_deprecation_msg, UserWarning)\n"
     ]
    },
    {
     "name": "stdout",
     "output_type": "stream",
     "text": [
      "[0]\tvalidation_0-mlogloss:1.74212\n",
      "[10]\tvalidation_0-mlogloss:0.90370\n",
      "[20]\tvalidation_0-mlogloss:0.63636\n",
      "[30]\tvalidation_0-mlogloss:0.52393\n",
      "[40]\tvalidation_0-mlogloss:0.46518\n",
      "[50]\tvalidation_0-mlogloss:0.42705\n",
      "[60]\tvalidation_0-mlogloss:0.40044\n",
      "[70]\tvalidation_0-mlogloss:0.38445\n",
      "[80]\tvalidation_0-mlogloss:0.37148\n",
      "[90]\tvalidation_0-mlogloss:0.35967\n",
      "[100]\tvalidation_0-mlogloss:0.34890\n",
      "[110]\tvalidation_0-mlogloss:0.34021\n",
      "[120]\tvalidation_0-mlogloss:0.33256\n",
      "[130]\tvalidation_0-mlogloss:0.32341\n",
      "[140]\tvalidation_0-mlogloss:0.31356\n",
      "[150]\tvalidation_0-mlogloss:0.30486\n",
      "[160]\tvalidation_0-mlogloss:0.29782\n",
      "[170]\tvalidation_0-mlogloss:0.28963\n",
      "[180]\tvalidation_0-mlogloss:0.28179\n",
      "[190]\tvalidation_0-mlogloss:0.27434\n",
      "[200]\tvalidation_0-mlogloss:0.26654\n",
      "[210]\tvalidation_0-mlogloss:0.26047\n",
      "[220]\tvalidation_0-mlogloss:0.25344\n",
      "[230]\tvalidation_0-mlogloss:0.24681\n",
      "[240]\tvalidation_0-mlogloss:0.24032\n",
      "[250]\tvalidation_0-mlogloss:0.23445\n",
      "[260]\tvalidation_0-mlogloss:0.22977\n",
      "[270]\tvalidation_0-mlogloss:0.22522\n",
      "[280]\tvalidation_0-mlogloss:0.22024\n",
      "[290]\tvalidation_0-mlogloss:0.21601\n",
      "[300]\tvalidation_0-mlogloss:0.21160\n",
      "[310]\tvalidation_0-mlogloss:0.20680\n",
      "[320]\tvalidation_0-mlogloss:0.20262\n",
      "[330]\tvalidation_0-mlogloss:0.19913\n",
      "[340]\tvalidation_0-mlogloss:0.19526\n",
      "[350]\tvalidation_0-mlogloss:0.19207\n",
      "[360]\tvalidation_0-mlogloss:0.18871\n",
      "[370]\tvalidation_0-mlogloss:0.18618\n",
      "[380]\tvalidation_0-mlogloss:0.18319\n",
      "[390]\tvalidation_0-mlogloss:0.18028\n",
      "[400]\tvalidation_0-mlogloss:0.17776\n",
      "[410]\tvalidation_0-mlogloss:0.17570\n",
      "[420]\tvalidation_0-mlogloss:0.17360\n",
      "[430]\tvalidation_0-mlogloss:0.17110\n",
      "[440]\tvalidation_0-mlogloss:0.16848\n",
      "[450]\tvalidation_0-mlogloss:0.16665\n",
      "[460]\tvalidation_0-mlogloss:0.16429\n",
      "[470]\tvalidation_0-mlogloss:0.16243\n",
      "[480]\tvalidation_0-mlogloss:0.16045\n",
      "[490]\tvalidation_0-mlogloss:0.15878\n",
      "[500]\tvalidation_0-mlogloss:0.15708\n",
      "[510]\tvalidation_0-mlogloss:0.15545\n",
      "[520]\tvalidation_0-mlogloss:0.15388\n",
      "[530]\tvalidation_0-mlogloss:0.15229\n",
      "[540]\tvalidation_0-mlogloss:0.15052\n",
      "[550]\tvalidation_0-mlogloss:0.14936\n",
      "[560]\tvalidation_0-mlogloss:0.14788\n",
      "[570]\tvalidation_0-mlogloss:0.14644\n",
      "[580]\tvalidation_0-mlogloss:0.14514\n",
      "[590]\tvalidation_0-mlogloss:0.14383\n",
      "[600]\tvalidation_0-mlogloss:0.14254\n",
      "[610]\tvalidation_0-mlogloss:0.14128\n",
      "[620]\tvalidation_0-mlogloss:0.14028\n",
      "[630]\tvalidation_0-mlogloss:0.13884\n",
      "[640]\tvalidation_0-mlogloss:0.13781\n",
      "[650]\tvalidation_0-mlogloss:0.13683\n",
      "[660]\tvalidation_0-mlogloss:0.13580\n",
      "[670]\tvalidation_0-mlogloss:0.13485\n",
      "[680]\tvalidation_0-mlogloss:0.13407\n",
      "[690]\tvalidation_0-mlogloss:0.13320\n",
      "[700]\tvalidation_0-mlogloss:0.13234\n",
      "[710]\tvalidation_0-mlogloss:0.13148\n",
      "[720]\tvalidation_0-mlogloss:0.13068\n",
      "[730]\tvalidation_0-mlogloss:0.12976\n",
      "[740]\tvalidation_0-mlogloss:0.12896\n",
      "[750]\tvalidation_0-mlogloss:0.12836\n",
      "[760]\tvalidation_0-mlogloss:0.12756\n",
      "[770]\tvalidation_0-mlogloss:0.12677\n",
      "[780]\tvalidation_0-mlogloss:0.12610\n",
      "[790]\tvalidation_0-mlogloss:0.12541\n",
      "[800]\tvalidation_0-mlogloss:0.12460\n",
      "[810]\tvalidation_0-mlogloss:0.12399\n",
      "[820]\tvalidation_0-mlogloss:0.12327\n",
      "[830]\tvalidation_0-mlogloss:0.12271\n",
      "[840]\tvalidation_0-mlogloss:0.12200\n",
      "[850]\tvalidation_0-mlogloss:0.12150\n",
      "[860]\tvalidation_0-mlogloss:0.12097\n",
      "[870]\tvalidation_0-mlogloss:0.12033\n",
      "[880]\tvalidation_0-mlogloss:0.11976\n",
      "[890]\tvalidation_0-mlogloss:0.11906\n",
      "[900]\tvalidation_0-mlogloss:0.11845\n",
      "[910]\tvalidation_0-mlogloss:0.11805\n",
      "[920]\tvalidation_0-mlogloss:0.11750\n",
      "[930]\tvalidation_0-mlogloss:0.11715\n",
      "[940]\tvalidation_0-mlogloss:0.11674\n",
      "[950]\tvalidation_0-mlogloss:0.11631\n",
      "[960]\tvalidation_0-mlogloss:0.11596\n",
      "[970]\tvalidation_0-mlogloss:0.11559\n",
      "[980]\tvalidation_0-mlogloss:0.11518\n",
      "[990]\tvalidation_0-mlogloss:0.11478\n",
      "[999]\tvalidation_0-mlogloss:0.11442\n"
     ]
    },
    {
     "data": {
      "text/plain": [
       "XGBClassifier(base_score=0.5, booster='gbtree', colsample_bylevel=1,\n",
       "              colsample_bynode=1, colsample_bytree=1, enable_categorical=False,\n",
       "              gamma=0, gpu_id=0, importance_type=None,\n",
       "              interaction_constraints='', learning_rate=0.1, max_delta_step=0,\n",
       "              max_depth=8, min_child_weight=1, missing=nan,\n",
       "              monotone_constraints='()', n_estimators=1000, n_jobs=-1,\n",
       "              nthread=20, num_parallel_tree=1, objective='multi:softprob',\n",
       "              predictor='auto', random_state=0, reg_alpha=0, reg_lambda=1,\n",
       "              scale_pos_weight=1, seed=0, silent=None, subsample=0.7,\n",
       "              tree_method='gpu_hist', ...)"
      ]
     },
     "execution_count": 10,
     "metadata": {},
     "output_type": "execute_result"
    }
   ],
   "source": [
    "from xgboost import XGBClassifier\n",
    "\n",
    "clf_xgb = XGBClassifier(max_depth=8,\n",
    "    tree_method='gpu_hist',\n",
    "    gpu_id=0,\n",
    "    learning_rate=0.1,\n",
    "    n_estimators=n_estimators,\n",
    "    verbosity=0,\n",
    "    silent=None,\n",
    "    objective=\"multi:softmax\",\n",
    "    booster='gbtree',\n",
    "    n_jobs=-1,\n",
    "    nthread=None,\n",
    "    gamma=0,\n",
    "    min_child_weight=1,\n",
    "    max_delta_step=0,\n",
    "    subsample=0.7,\n",
    "    colsample_bytree=1,\n",
    "    colsample_bylevel=1,\n",
    "    colsample_bynode=1,\n",
    "    reg_alpha=0,\n",
    "    reg_lambda=1,\n",
    "    scale_pos_weight=1,\n",
    "    base_score=0.5,\n",
    "    random_state=0,\n",
    "    seed=None,)\n",
    "\n",
    "clf_xgb.fit(X_train, y_train,\n",
    "            eval_set=[(X_valid, y_valid)],\n",
    "            early_stopping_rounds=40,\n",
    "            verbose=10)"
   ]
  },
  {
   "cell_type": "code",
   "execution_count": 11,
   "metadata": {},
   "outputs": [
    {
     "name": "stdout",
     "output_type": "stream",
     "text": [
      "0.9591705015586981\n",
      "0.9604313141657272\n"
     ]
    }
   ],
   "source": [
    "preds_valid = np.array(clf_xgb.predict_proba(X_valid, ))\n",
    "valid_acc = accuracy_score(y_pred=np.argmax(preds_valid, axis=1) + 1, y_true=y_valid)\n",
    "print(valid_acc)\n",
    "\n",
    "preds_test = np.array(clf_xgb.predict_proba(X_test))\n",
    "test_acc = accuracy_score(y_pred=np.argmax(preds_test, axis=1) + 1, y_true=y_test)\n",
    "print(test_acc)"
   ]
  },
  {
   "cell_type": "code",
   "execution_count": 12,
   "metadata": {},
   "outputs": [
    {
     "data": {
      "text/plain": [
       "(309872, 54)"
      ]
     },
     "execution_count": 12,
     "metadata": {},
     "output_type": "execute_result"
    }
   ],
   "source": [
    "X_train.shape"
   ]
  },
  {
   "cell_type": "code",
   "execution_count": null,
   "metadata": {},
   "outputs": [],
   "source": [
    "start_time = datetime.datetime.now()\n",
    "X_train_scale = preprocessing.scale(X_train)\n",
    "X_valid_scale = preprocessing.scale(X_valid)\n",
    "clf = LinearSVC(random_state=0, tol=1e-5)\n",
    "clf.fit(X_train_scale, y_train)\n",
    "print(\"SVC time execution(kernel='rbf' and C=1 ):\",\n",
    "     datetime.datetime.now() - start_time)\n"
   ]
  },
  {
   "cell_type": "code",
   "execution_count": null,
   "metadata": {},
   "outputs": [],
   "source": [
    "\n",
    "prediction = clf.predict(X_train)\n",
    "acc_score_train = accuracy_score(y_train, prediction)\n",
    "prediction = clf.predict(X_valid_scale)\n",
    "acc_score_valid = accuracy_score(y_valid, prediction)\n",
    "print(\"Train accuracy = {0}, Test accuracy = {1}\".format(acc_score_train, acc_score_valid))"
   ]
  },
  {
   "cell_type": "code",
   "execution_count": null,
   "metadata": {},
   "outputs": [],
   "source": []
  },
  {
   "cell_type": "code",
   "execution_count": null,
   "metadata": {},
   "outputs": [],
   "source": [
    "cat_params = {\n",
    "    'iterations': 5000,\n",
    "    'learning_rate': 0.03,\n",
    "    'od_wait': 1000,\n",
    "    'depth': 7,\n",
    "    'task_type' : 'GPU',\n",
    "    'l2_leaf_reg': 3,\n",
    "    'eval_metric': 'Accuracy',\n",
    "    'devices' : '0',\n",
    "    'verbose' : 1000\n",
    "}\n",
    "cat = CatBoostClassifier(**cat_params)\n",
    "cat.fit(X_train, y_train, eval_set=(X_valid, y_valid))"
   ]
  },
  {
   "cell_type": "code",
   "execution_count": null,
   "metadata": {},
   "outputs": [],
   "source": []
  }
 ],
 "metadata": {
  "kernelspec": {
   "display_name": "Python 3",
   "language": "python",
   "name": "python3"
  },
  "language_info": {
   "codemirror_mode": {
    "name": "ipython",
    "version": 3
   },
   "file_extension": ".py",
   "mimetype": "text/x-python",
   "name": "python",
   "nbconvert_exporter": "python",
   "pygments_lexer": "ipython3",
   "version": "3.9.5"
  },
  "toc": {
   "base_numbering": 1,
   "nav_menu": {},
   "number_sections": true,
   "sideBar": true,
   "skip_h1_title": false,
   "title_cell": "Table of Contents",
   "title_sidebar": "Contents",
   "toc_cell": false,
   "toc_position": {},
   "toc_section_display": true,
   "toc_window_display": false
  }
 },
 "nbformat": 4,
 "nbformat_minor": 2
}
