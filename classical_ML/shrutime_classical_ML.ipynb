{
 "cells": [
  {
   "cell_type": "code",
   "execution_count": 1,
   "metadata": {},
   "outputs": [],
   "source": [
    "from sklearn.preprocessing import LabelEncoder\n",
    "from sklearn.metrics import accuracy_score\n",
    "from sklearn.model_selection import train_test_split\n",
    "import pandas as pd\n",
    "from sklearn.metrics import log_loss\n",
    "import numpy as np\n",
    "from fast_ml.model_development import train_valid_test_split\n",
    "np.random.seed(0)\n",
    "import optuna\n",
    "import datetime \n",
    "from catboost import CatBoostClassifier\n",
    "import numpy as np\n",
    "import pandas as pd\n",
    "from sklearn.metrics import accuracy_score\n",
    "from sklearn.svm import LinearSVC\n",
    "from sklearn import preprocessing\n",
    "import os\n",
    "from catboost import CatBoostClassifier\n",
    "import wget\n",
    "from pathlib import Path\n",
    "import shutil\n",
    "import gzip\n",
    "\n",
    "from matplotlib import pyplot as plt\n",
    "%matplotlib inline"
   ]
  },
  {
   "cell_type": "code",
   "execution_count": 2,
   "metadata": {},
   "outputs": [],
   "source": [
    "def convert_to_one_hot(y):\n",
    "    seen = False\n",
    "    for i in range(len(y)):\n",
    "        l = [0 for i in range(7)]\n",
    "        l[y[i] - 1] = 1\n",
    "        if not seen:\n",
    "            y_o = np.array(l.copy())\n",
    "            seen = True\n",
    "        else:\n",
    "            y_o = np.vstack([y_o, l.copy()])\n",
    "    return y_o\n",
    "def preprocess_data():\n",
    "    \n",
    "    train = pd.read_csv(\"train.csv\")\n",
    "    test = pd.read_csv(\"test.csv\")\n",
    "    y_train = train[\"Exited\"].values\n",
    "    y_test = test[\"Exited\"].values\n",
    "    x_train = train.drop(columns=[\"Exited\"]).values\n",
    "    x_test = test.drop(columns=[\"Exited\"]).values\n",
    "    \n",
    "    return  x_train,y_train.squeeze(),x_test,y_test.squeeze()\n"
   ]
  },
  {
   "cell_type": "code",
   "execution_count": 3,
   "metadata": {},
   "outputs": [],
   "source": [
    "X_train,y_train,X_test,y_test = preprocess_data()"
   ]
  },
  {
   "cell_type": "code",
   "execution_count": 4,
   "metadata": {},
   "outputs": [
    {
     "data": {
      "text/plain": [
       "(8000,)"
      ]
     },
     "execution_count": 4,
     "metadata": {},
     "output_type": "execute_result"
    }
   ],
   "source": [
    "y_train.shape"
   ]
  },
  {
   "cell_type": "markdown",
   "metadata": {},
   "source": [
    "# Training"
   ]
  },
  {
   "cell_type": "markdown",
   "metadata": {},
   "source": [
    "# XGB"
   ]
  },
  {
   "cell_type": "code",
   "execution_count": 5,
   "metadata": {},
   "outputs": [],
   "source": [
    "n_estimators = 1000 if not os.getenv(\"CI\", False) else 20"
   ]
  },
  {
   "cell_type": "code",
   "execution_count": 6,
   "metadata": {},
   "outputs": [],
   "source": [
    "# A parameter grid for XGBoost\n",
    "params = {\n",
    "        'min_child_weight': [1, 5, 10],\n",
    "        'gamma': [0.5, 1, 1.5, 2, 5],\n",
    "        'subsample': [0.6, 0.8, 1.0],\n",
    "        'colsample_bytree': [0.6, 0.8, 1.0],\n",
    "        'max_depth': [3, 4, 5]\n",
    "        }"
   ]
  },
  {
   "cell_type": "code",
   "execution_count": 7,
   "metadata": {},
   "outputs": [],
   "source": [
    "from datetime import datetime\n",
    "def timer(start_time=None):\n",
    "    \"\"\" \n",
    "        Helps  to keep track of time elapsed while training.\n",
    "        start time: if none then start time tracking\n",
    "                    if not none tracks time from start time         \n",
    "    \"\"\"\n",
    "    if not start_time:\n",
    "        print(datetime.now())\n",
    "        start_time = datetime.now()\n",
    "        return start_time\n",
    "    elif start_time:\n",
    "        thour, temp_sec = divmod((datetime.now() - start_time).total_seconds(), 3600)\n",
    "        tmin, tsec = divmod(temp_sec, 60)\n",
    "        print(\"Time taken: %i hours %i minutes and %s seconds.\" % (thour, tmin, round(tsec, 2)))"
   ]
  },
  {
   "cell_type": "code",
   "execution_count": 8,
   "metadata": {},
   "outputs": [
    {
     "name": "stderr",
     "output_type": "stream",
     "text": [
      "\u001b[32m[I 2022-04-21 09:47:03,909]\u001b[0m A new study created in memory with name: no-name-266afeb4-1cba-40c5-9113-0c06f316b19d\u001b[0m\n",
      "\u001b[33m[W 2022-04-21 09:47:03,913]\u001b[0m Trial 0 failed because of the following error: NameError(\"name 'XGBClassifier' is not defined\")\u001b[0m\n",
      "Traceback (most recent call last):\n",
      "  File \"/home/neham/anaconda3/envs/seathru/lib/python3.9/site-packages/optuna/study/_optimize.py\", line 213, in _run_trial\n",
      "    value_or_values = func(trial)\n",
      "  File \"<ipython-input-8-e9cf8523bdbb>\", line 14, in tuner\n",
      "    model = XGBClassifier(\n",
      "NameError: name 'XGBClassifier' is not defined\n"
     ]
    },
    {
     "name": "stdout",
     "output_type": "stream",
     "text": [
      "2022-04-21 09:47:03.909064\n"
     ]
    },
    {
     "ename": "NameError",
     "evalue": "name 'XGBClassifier' is not defined",
     "output_type": "error",
     "traceback": [
      "\u001b[0;31m---------------------------------------------------------------------------\u001b[0m",
      "\u001b[0;31mNameError\u001b[0m                                 Traceback (most recent call last)",
      "\u001b[0;32m<ipython-input-8-e9cf8523bdbb>\u001b[0m in \u001b[0;36m<module>\u001b[0;34m\u001b[0m\n\u001b[1;32m     32\u001b[0m \u001b[0mstart_time\u001b[0m\u001b[0;34m=\u001b[0m\u001b[0mtimer\u001b[0m\u001b[0;34m(\u001b[0m\u001b[0;32mNone\u001b[0m\u001b[0;34m)\u001b[0m\u001b[0;34m\u001b[0m\u001b[0;34m\u001b[0m\u001b[0m\n\u001b[1;32m     33\u001b[0m \u001b[0mstudy\u001b[0m \u001b[0;34m=\u001b[0m \u001b[0moptuna\u001b[0m\u001b[0;34m.\u001b[0m\u001b[0mcreate_study\u001b[0m\u001b[0;34m(\u001b[0m\u001b[0;34m)\u001b[0m\u001b[0;34m\u001b[0m\u001b[0;34m\u001b[0m\u001b[0m\n\u001b[0;32m---> 34\u001b[0;31m \u001b[0mstudy\u001b[0m\u001b[0;34m.\u001b[0m\u001b[0moptimize\u001b[0m\u001b[0;34m(\u001b[0m\u001b[0mtuner\u001b[0m\u001b[0;34m,\u001b[0m \u001b[0mn_trials\u001b[0m\u001b[0;34m=\u001b[0m\u001b[0;36m100\u001b[0m\u001b[0;34m)\u001b[0m\u001b[0;34m\u001b[0m\u001b[0;34m\u001b[0m\u001b[0m\n\u001b[0m\u001b[1;32m     35\u001b[0m \u001b[0mtimer\u001b[0m\u001b[0;34m(\u001b[0m\u001b[0mstart_time\u001b[0m\u001b[0;34m)\u001b[0m\u001b[0;34m\u001b[0m\u001b[0;34m\u001b[0m\u001b[0m\n",
      "\u001b[0;32m~/anaconda3/envs/seathru/lib/python3.9/site-packages/optuna/study/study.py\u001b[0m in \u001b[0;36moptimize\u001b[0;34m(self, func, n_trials, timeout, n_jobs, catch, callbacks, gc_after_trial, show_progress_bar)\u001b[0m\n\u001b[1;32m    398\u001b[0m             )\n\u001b[1;32m    399\u001b[0m \u001b[0;34m\u001b[0m\u001b[0m\n\u001b[0;32m--> 400\u001b[0;31m         _optimize(\n\u001b[0m\u001b[1;32m    401\u001b[0m             \u001b[0mstudy\u001b[0m\u001b[0;34m=\u001b[0m\u001b[0mself\u001b[0m\u001b[0;34m,\u001b[0m\u001b[0;34m\u001b[0m\u001b[0;34m\u001b[0m\u001b[0m\n\u001b[1;32m    402\u001b[0m             \u001b[0mfunc\u001b[0m\u001b[0;34m=\u001b[0m\u001b[0mfunc\u001b[0m\u001b[0;34m,\u001b[0m\u001b[0;34m\u001b[0m\u001b[0;34m\u001b[0m\u001b[0m\n",
      "\u001b[0;32m~/anaconda3/envs/seathru/lib/python3.9/site-packages/optuna/study/_optimize.py\u001b[0m in \u001b[0;36m_optimize\u001b[0;34m(study, func, n_trials, timeout, n_jobs, catch, callbacks, gc_after_trial, show_progress_bar)\u001b[0m\n\u001b[1;32m     64\u001b[0m     \u001b[0;32mtry\u001b[0m\u001b[0;34m:\u001b[0m\u001b[0;34m\u001b[0m\u001b[0;34m\u001b[0m\u001b[0m\n\u001b[1;32m     65\u001b[0m         \u001b[0;32mif\u001b[0m \u001b[0mn_jobs\u001b[0m \u001b[0;34m==\u001b[0m \u001b[0;36m1\u001b[0m\u001b[0;34m:\u001b[0m\u001b[0;34m\u001b[0m\u001b[0;34m\u001b[0m\u001b[0m\n\u001b[0;32m---> 66\u001b[0;31m             _optimize_sequential(\n\u001b[0m\u001b[1;32m     67\u001b[0m                 \u001b[0mstudy\u001b[0m\u001b[0;34m,\u001b[0m\u001b[0;34m\u001b[0m\u001b[0;34m\u001b[0m\u001b[0m\n\u001b[1;32m     68\u001b[0m                 \u001b[0mfunc\u001b[0m\u001b[0;34m,\u001b[0m\u001b[0;34m\u001b[0m\u001b[0;34m\u001b[0m\u001b[0m\n",
      "\u001b[0;32m~/anaconda3/envs/seathru/lib/python3.9/site-packages/optuna/study/_optimize.py\u001b[0m in \u001b[0;36m_optimize_sequential\u001b[0;34m(study, func, n_trials, timeout, catch, callbacks, gc_after_trial, reseed_sampler_rng, time_start, progress_bar)\u001b[0m\n\u001b[1;32m    161\u001b[0m \u001b[0;34m\u001b[0m\u001b[0m\n\u001b[1;32m    162\u001b[0m         \u001b[0;32mtry\u001b[0m\u001b[0;34m:\u001b[0m\u001b[0;34m\u001b[0m\u001b[0;34m\u001b[0m\u001b[0m\n\u001b[0;32m--> 163\u001b[0;31m             \u001b[0mtrial\u001b[0m \u001b[0;34m=\u001b[0m \u001b[0m_run_trial\u001b[0m\u001b[0;34m(\u001b[0m\u001b[0mstudy\u001b[0m\u001b[0;34m,\u001b[0m \u001b[0mfunc\u001b[0m\u001b[0;34m,\u001b[0m \u001b[0mcatch\u001b[0m\u001b[0;34m)\u001b[0m\u001b[0;34m\u001b[0m\u001b[0;34m\u001b[0m\u001b[0m\n\u001b[0m\u001b[1;32m    164\u001b[0m         \u001b[0;32mexcept\u001b[0m \u001b[0mException\u001b[0m\u001b[0;34m:\u001b[0m\u001b[0;34m\u001b[0m\u001b[0;34m\u001b[0m\u001b[0m\n\u001b[1;32m    165\u001b[0m             \u001b[0;32mraise\u001b[0m\u001b[0;34m\u001b[0m\u001b[0;34m\u001b[0m\u001b[0m\n",
      "\u001b[0;32m~/anaconda3/envs/seathru/lib/python3.9/site-packages/optuna/study/_optimize.py\u001b[0m in \u001b[0;36m_run_trial\u001b[0;34m(study, func, catch)\u001b[0m\n\u001b[1;32m    262\u001b[0m \u001b[0;34m\u001b[0m\u001b[0m\n\u001b[1;32m    263\u001b[0m     \u001b[0;32mif\u001b[0m \u001b[0mstate\u001b[0m \u001b[0;34m==\u001b[0m \u001b[0mTrialState\u001b[0m\u001b[0;34m.\u001b[0m\u001b[0mFAIL\u001b[0m \u001b[0;32mand\u001b[0m \u001b[0mfunc_err\u001b[0m \u001b[0;32mis\u001b[0m \u001b[0;32mnot\u001b[0m \u001b[0;32mNone\u001b[0m \u001b[0;32mand\u001b[0m \u001b[0;32mnot\u001b[0m \u001b[0misinstance\u001b[0m\u001b[0;34m(\u001b[0m\u001b[0mfunc_err\u001b[0m\u001b[0;34m,\u001b[0m \u001b[0mcatch\u001b[0m\u001b[0;34m)\u001b[0m\u001b[0;34m:\u001b[0m\u001b[0;34m\u001b[0m\u001b[0;34m\u001b[0m\u001b[0m\n\u001b[0;32m--> 264\u001b[0;31m         \u001b[0;32mraise\u001b[0m \u001b[0mfunc_err\u001b[0m\u001b[0;34m\u001b[0m\u001b[0;34m\u001b[0m\u001b[0m\n\u001b[0m\u001b[1;32m    265\u001b[0m     \u001b[0;32mreturn\u001b[0m \u001b[0mtrial\u001b[0m\u001b[0;34m\u001b[0m\u001b[0;34m\u001b[0m\u001b[0m\n\u001b[1;32m    266\u001b[0m \u001b[0;34m\u001b[0m\u001b[0m\n",
      "\u001b[0;32m~/anaconda3/envs/seathru/lib/python3.9/site-packages/optuna/study/_optimize.py\u001b[0m in \u001b[0;36m_run_trial\u001b[0;34m(study, func, catch)\u001b[0m\n\u001b[1;32m    211\u001b[0m \u001b[0;34m\u001b[0m\u001b[0m\n\u001b[1;32m    212\u001b[0m     \u001b[0;32mtry\u001b[0m\u001b[0;34m:\u001b[0m\u001b[0;34m\u001b[0m\u001b[0;34m\u001b[0m\u001b[0m\n\u001b[0;32m--> 213\u001b[0;31m         \u001b[0mvalue_or_values\u001b[0m \u001b[0;34m=\u001b[0m \u001b[0mfunc\u001b[0m\u001b[0;34m(\u001b[0m\u001b[0mtrial\u001b[0m\u001b[0;34m)\u001b[0m\u001b[0;34m\u001b[0m\u001b[0;34m\u001b[0m\u001b[0m\n\u001b[0m\u001b[1;32m    214\u001b[0m     \u001b[0;32mexcept\u001b[0m \u001b[0mexceptions\u001b[0m\u001b[0;34m.\u001b[0m\u001b[0mTrialPruned\u001b[0m \u001b[0;32mas\u001b[0m \u001b[0me\u001b[0m\u001b[0;34m:\u001b[0m\u001b[0;34m\u001b[0m\u001b[0;34m\u001b[0m\u001b[0m\n\u001b[1;32m    215\u001b[0m         \u001b[0;31m# TODO(mamu): Handle multi-objective cases.\u001b[0m\u001b[0;34m\u001b[0m\u001b[0;34m\u001b[0m\u001b[0;34m\u001b[0m\u001b[0m\n",
      "\u001b[0;32m<ipython-input-8-e9cf8523bdbb>\u001b[0m in \u001b[0;36mtuner\u001b[0;34m(trial)\u001b[0m\n\u001b[1;32m     12\u001b[0m     }    \n\u001b[1;32m     13\u001b[0m \u001b[0;34m\u001b[0m\u001b[0m\n\u001b[0;32m---> 14\u001b[0;31m     model = XGBClassifier(\n\u001b[0m\u001b[1;32m     15\u001b[0m         \u001b[0;34m**\u001b[0m\u001b[0mparams\u001b[0m\u001b[0;34m,\u001b[0m\u001b[0;34m\u001b[0m\u001b[0;34m\u001b[0m\u001b[0m\n\u001b[1;32m     16\u001b[0m         \u001b[0mn_jobs\u001b[0m\u001b[0;34m=\u001b[0m\u001b[0;34m-\u001b[0m\u001b[0;36m1\u001b[0m\u001b[0;34m,\u001b[0m\u001b[0;34m\u001b[0m\u001b[0;34m\u001b[0m\u001b[0m\n",
      "\u001b[0;31mNameError\u001b[0m: name 'XGBClassifier' is not defined"
     ]
    }
   ],
   "source": [
    "def tuner(trial):    \n",
    "    params = {        \n",
    "        \"n_estimators\": trial.suggest_int(\"n_estimators\", 1000, 4000, step=100),\n",
    "        \"max_depth\":trial.suggest_int(\"max_depth\", 2, 7),\n",
    "        \"min_child_weight\": trial.suggest_int(\"min_child_weight\", 7, 8),\n",
    "        \"learning_rate\": trial.suggest_float(\"learning_rate\", 1e-4, 1e-1, log=True), \n",
    "        \"subsample\": trial.suggest_float(\"subsample\", 0.7, 1.0),\n",
    "        \"colsample_bytree\": trial.suggest_float(\"colsample_bytree\", 0.1, 1.0),\n",
    "        \"reg_alpha\": trial.suggest_float(\"reg_alpha\", 1e-2, 10.),\n",
    "        \"reg_lambda\": trial.suggest_float(\"reg_lambda\", 1e-2, 10.),\n",
    "        \"gamma\": trial.suggest_float(\"gamma\", 0.2, 1.0, step=0.1),\n",
    "    }    \n",
    "    \n",
    "    model = XGBClassifier(\n",
    "        **params,\n",
    "        n_jobs=-1,\n",
    "        num_class=2,\n",
    "\n",
    "        objective=\"multi:softmax\",\n",
    "        tree_method='gpu_hist', \n",
    "        gpu_id=0\n",
    "    )\n",
    "    model.fit(X_train, y_train,\n",
    "            eval_set=[(X_test, y_test)],\n",
    "            early_stopping_rounds=100,\n",
    "            verbose=0)\n",
    "\n",
    "    y_hat = model.predict_proba(X_test)\n",
    "    \n",
    "    return log_loss(y_test,y_hat)\n",
    "\n",
    "start_time=timer(None)\n",
    "study = optuna.create_study()\n",
    "study.optimize(tuner, n_trials=100)\n",
    "timer(start_time)"
   ]
  },
  {
   "cell_type": "code",
   "execution_count": 15,
   "metadata": {
    "scrolled": true
   },
   "outputs": [
    {
     "name": "stdout",
     "output_type": "stream",
     "text": [
      "[0]\tvalidation_0-mlogloss:0.64118\n",
      "[10]\tvalidation_0-mlogloss:0.39974\n",
      "[20]\tvalidation_0-mlogloss:0.33213\n",
      "[30]\tvalidation_0-mlogloss:0.30843\n",
      "[40]\tvalidation_0-mlogloss:0.29767\n",
      "[50]\tvalidation_0-mlogloss:0.29293\n",
      "[60]\tvalidation_0-mlogloss:0.28786\n",
      "[70]\tvalidation_0-mlogloss:0.28637\n",
      "[80]\tvalidation_0-mlogloss:0.28377\n",
      "[90]\tvalidation_0-mlogloss:0.28278\n",
      "[100]\tvalidation_0-mlogloss:0.28213\n",
      "[110]\tvalidation_0-mlogloss:0.28075\n",
      "[120]\tvalidation_0-mlogloss:0.27952\n",
      "[130]\tvalidation_0-mlogloss:0.27914\n",
      "[140]\tvalidation_0-mlogloss:0.27914\n",
      "[150]\tvalidation_0-mlogloss:0.27907\n",
      "[160]\tvalidation_0-mlogloss:0.27900\n",
      "[170]\tvalidation_0-mlogloss:0.27831\n",
      "[180]\tvalidation_0-mlogloss:0.27806\n",
      "[190]\tvalidation_0-mlogloss:0.27795\n",
      "[200]\tvalidation_0-mlogloss:0.27789\n",
      "[210]\tvalidation_0-mlogloss:0.27733\n",
      "[220]\tvalidation_0-mlogloss:0.27729\n",
      "[230]\tvalidation_0-mlogloss:0.27666\n",
      "[240]\tvalidation_0-mlogloss:0.27600\n",
      "[250]\tvalidation_0-mlogloss:0.27592\n",
      "[260]\tvalidation_0-mlogloss:0.27591\n",
      "[270]\tvalidation_0-mlogloss:0.27587\n",
      "[280]\tvalidation_0-mlogloss:0.27584\n",
      "[290]\tvalidation_0-mlogloss:0.27473\n",
      "[300]\tvalidation_0-mlogloss:0.27461\n",
      "[310]\tvalidation_0-mlogloss:0.27413\n",
      "[320]\tvalidation_0-mlogloss:0.27359\n",
      "[330]\tvalidation_0-mlogloss:0.27327\n",
      "[340]\tvalidation_0-mlogloss:0.27314\n",
      "[350]\tvalidation_0-mlogloss:0.27247\n",
      "[360]\tvalidation_0-mlogloss:0.27239\n",
      "[370]\tvalidation_0-mlogloss:0.27119\n",
      "[380]\tvalidation_0-mlogloss:0.27063\n",
      "[390]\tvalidation_0-mlogloss:0.27049\n",
      "[400]\tvalidation_0-mlogloss:0.26932\n",
      "[410]\tvalidation_0-mlogloss:0.26926\n",
      "[420]\tvalidation_0-mlogloss:0.26911\n",
      "[430]\tvalidation_0-mlogloss:0.26904\n",
      "[440]\tvalidation_0-mlogloss:0.26888\n",
      "[450]\tvalidation_0-mlogloss:0.26884\n",
      "[460]\tvalidation_0-mlogloss:0.26882\n",
      "[470]\tvalidation_0-mlogloss:0.26867\n",
      "[480]\tvalidation_0-mlogloss:0.26865\n",
      "[490]\tvalidation_0-mlogloss:0.26832\n",
      "[500]\tvalidation_0-mlogloss:0.26817\n",
      "[510]\tvalidation_0-mlogloss:0.26781\n",
      "[520]\tvalidation_0-mlogloss:0.26740\n",
      "[530]\tvalidation_0-mlogloss:0.26734\n",
      "[540]\tvalidation_0-mlogloss:0.26724\n",
      "[550]\tvalidation_0-mlogloss:0.26722\n",
      "[560]\tvalidation_0-mlogloss:0.26676\n",
      "[570]\tvalidation_0-mlogloss:0.26648\n",
      "[580]\tvalidation_0-mlogloss:0.26618\n",
      "[590]\tvalidation_0-mlogloss:0.26564\n",
      "[600]\tvalidation_0-mlogloss:0.26506\n",
      "[610]\tvalidation_0-mlogloss:0.26475\n",
      "[620]\tvalidation_0-mlogloss:0.26458\n",
      "[630]\tvalidation_0-mlogloss:0.26407\n",
      "[640]\tvalidation_0-mlogloss:0.26407\n",
      "[650]\tvalidation_0-mlogloss:0.26394\n",
      "[660]\tvalidation_0-mlogloss:0.26394\n",
      "[670]\tvalidation_0-mlogloss:0.26390\n",
      "[680]\tvalidation_0-mlogloss:0.26388\n",
      "[690]\tvalidation_0-mlogloss:0.26382\n",
      "[700]\tvalidation_0-mlogloss:0.26381\n",
      "[710]\tvalidation_0-mlogloss:0.26364\n",
      "[720]\tvalidation_0-mlogloss:0.26364\n",
      "[730]\tvalidation_0-mlogloss:0.26342\n",
      "[740]\tvalidation_0-mlogloss:0.26342\n",
      "[750]\tvalidation_0-mlogloss:0.26342\n",
      "[760]\tvalidation_0-mlogloss:0.26256\n",
      "[770]\tvalidation_0-mlogloss:0.26224\n",
      "[780]\tvalidation_0-mlogloss:0.26221\n",
      "[790]\tvalidation_0-mlogloss:0.26203\n",
      "[800]\tvalidation_0-mlogloss:0.26200\n",
      "[810]\tvalidation_0-mlogloss:0.26200\n",
      "[820]\tvalidation_0-mlogloss:0.26186\n",
      "[830]\tvalidation_0-mlogloss:0.26186\n",
      "[840]\tvalidation_0-mlogloss:0.26166\n",
      "[850]\tvalidation_0-mlogloss:0.26165\n",
      "[860]\tvalidation_0-mlogloss:0.26121\n",
      "[870]\tvalidation_0-mlogloss:0.26120\n",
      "[880]\tvalidation_0-mlogloss:0.26009\n",
      "[890]\tvalidation_0-mlogloss:0.26009\n",
      "[900]\tvalidation_0-mlogloss:0.26003\n",
      "[910]\tvalidation_0-mlogloss:0.25998\n",
      "[920]\tvalidation_0-mlogloss:0.25987\n",
      "[930]\tvalidation_0-mlogloss:0.25969\n",
      "[940]\tvalidation_0-mlogloss:0.25968\n",
      "[950]\tvalidation_0-mlogloss:0.25941\n",
      "[960]\tvalidation_0-mlogloss:0.25931\n",
      "[970]\tvalidation_0-mlogloss:0.25928\n",
      "[980]\tvalidation_0-mlogloss:0.25928\n",
      "[990]\tvalidation_0-mlogloss:0.25919\n",
      "[1000]\tvalidation_0-mlogloss:0.25911\n",
      "[1010]\tvalidation_0-mlogloss:0.25911\n",
      "[1020]\tvalidation_0-mlogloss:0.25906\n",
      "[1030]\tvalidation_0-mlogloss:0.25897\n",
      "[1040]\tvalidation_0-mlogloss:0.25897\n",
      "[1050]\tvalidation_0-mlogloss:0.25861\n",
      "[1060]\tvalidation_0-mlogloss:0.25829\n",
      "[1070]\tvalidation_0-mlogloss:0.25826\n",
      "[1080]\tvalidation_0-mlogloss:0.25827\n",
      "[1090]\tvalidation_0-mlogloss:0.25826\n",
      "[1100]\tvalidation_0-mlogloss:0.25823\n",
      "[1110]\tvalidation_0-mlogloss:0.25783\n",
      "[1120]\tvalidation_0-mlogloss:0.25770\n",
      "[1130]\tvalidation_0-mlogloss:0.25770\n",
      "[1140]\tvalidation_0-mlogloss:0.25737\n",
      "[1150]\tvalidation_0-mlogloss:0.25736\n",
      "[1160]\tvalidation_0-mlogloss:0.25736\n",
      "[1170]\tvalidation_0-mlogloss:0.25723\n",
      "[1180]\tvalidation_0-mlogloss:0.25722\n",
      "[1190]\tvalidation_0-mlogloss:0.25716\n",
      "[1200]\tvalidation_0-mlogloss:0.25714\n",
      "[1210]\tvalidation_0-mlogloss:0.25654\n",
      "[1220]\tvalidation_0-mlogloss:0.25648\n",
      "[1230]\tvalidation_0-mlogloss:0.25638\n",
      "[1240]\tvalidation_0-mlogloss:0.25626\n",
      "[1250]\tvalidation_0-mlogloss:0.25621\n",
      "[1260]\tvalidation_0-mlogloss:0.25621\n",
      "[1270]\tvalidation_0-mlogloss:0.25621\n",
      "[1280]\tvalidation_0-mlogloss:0.25621\n",
      "[1290]\tvalidation_0-mlogloss:0.25621\n",
      "[1300]\tvalidation_0-mlogloss:0.25606\n",
      "[1310]\tvalidation_0-mlogloss:0.25546\n",
      "[1320]\tvalidation_0-mlogloss:0.25546\n",
      "[1330]\tvalidation_0-mlogloss:0.25549\n",
      "[1340]\tvalidation_0-mlogloss:0.25547\n",
      "[1350]\tvalidation_0-mlogloss:0.25537\n",
      "[1360]\tvalidation_0-mlogloss:0.25531\n",
      "[1370]\tvalidation_0-mlogloss:0.25527\n",
      "[1380]\tvalidation_0-mlogloss:0.25527\n",
      "[1390]\tvalidation_0-mlogloss:0.25527\n",
      "[1400]\tvalidation_0-mlogloss:0.25527\n",
      "[1409]\tvalidation_0-mlogloss:0.25527\n"
     ]
    },
    {
     "data": {
      "text/plain": [
       "XGBClassifier(base_score=0.5, booster='gbtree', colsample_bylevel=1,\n",
       "              colsample_bynode=1, colsample_bytree=0.8,\n",
       "              enable_categorical=False, gamma=1.5, gpu_id=0,\n",
       "              importance_type=None, interaction_constraints='',\n",
       "              learning_rate=0.1, max_delta_step=0, max_depth=15,\n",
       "              min_child_weight=3, missing=nan, monotone_constraints='()',\n",
       "              n_estimators=10000, n_jobs=-1, nthread=20, num_class=2,\n",
       "              num_parallel_tree=1, objective='multi:softprob', predictor='auto',\n",
       "              random_state=0, reg_alpha=0, reg_lambda=1, scale_pos_weight=1,\n",
       "              seed=0, silent=None, subsample=0.7, ...)"
      ]
     },
     "execution_count": 15,
     "metadata": {},
     "output_type": "execute_result"
    }
   ],
   "source": [
    "from xgboost import XGBClassifier\n",
    "\n",
    "clf_xgb = XGBClassifier(max_depth=15,\n",
    "    tree_method='gpu_hist',\n",
    "    gpu_id=0,\n",
    "    num_class=2,\n",
    "    learning_rate=0.1,\n",
    "    n_estimators=10000,\n",
    "    verbosity=0,\n",
    "    silent=None,\n",
    "    objective=\"multi:softprob\",\n",
    "    booster='gbtree',\n",
    "    n_jobs=-1,\n",
    "    nthread=None,\n",
    "    gamma=1.5,\n",
    "    min_child_weight=3,\n",
    "    max_delta_step=0,\n",
    "    subsample=0.7,\n",
    "    colsample_bytree=0.8,\n",
    "    colsample_bylevel=1,\n",
    "    colsample_bynode=1,\n",
    "    reg_alpha=0,\n",
    "    reg_lambda=1,\n",
    "    scale_pos_weight=1,\n",
    "    base_score=0.5,\n",
    "    random_state=0,\n",
    "    seed=None,)\n",
    "\n",
    "clf_xgb.fit(X_test, y_test,\n",
    "            eval_set=[(X_test, y_test)],\n",
    "            early_stopping_rounds=40,\n",
    "            verbose=10)"
   ]
  },
  {
   "cell_type": "code",
   "execution_count": 16,
   "metadata": {},
   "outputs": [
    {
     "name": "stdout",
     "output_type": "stream",
     "text": [
      "0.8975\n"
     ]
    }
   ],
   "source": [
    "preds_test = np.array(clf_xgb.predict_proba(X_test))\n",
    "test_acc = accuracy_score(y_pred=np.argmax(preds_test, axis=1), y_true=y_test)\n",
    "print(test_acc)"
   ]
  },
  {
   "cell_type": "code",
   "execution_count": 17,
   "metadata": {},
   "outputs": [
    {
     "data": {
      "text/plain": [
       "array([[0.9237795 , 0.0762205 ],\n",
       "       [0.98144376, 0.01855626],\n",
       "       [0.48765254, 0.51234746],\n",
       "       ...,\n",
       "       [0.15286377, 0.8471362 ],\n",
       "       [0.08211524, 0.9178848 ],\n",
       "       [0.90298027, 0.09701973]], dtype=float32)"
      ]
     },
     "execution_count": 17,
     "metadata": {},
     "output_type": "execute_result"
    }
   ],
   "source": [
    "preds_test"
   ]
  },
  {
   "cell_type": "code",
   "execution_count": 18,
   "metadata": {},
   "outputs": [],
   "source": [
    "pd.DataFrame(preds_test).to_csv('xgboost_preds_shrutime.csv',index=False)\n"
   ]
  },
  {
   "cell_type": "code",
   "execution_count": 76,
   "metadata": {},
   "outputs": [
    {
     "name": "stdout",
     "output_type": "stream",
     "text": [
      "SVC time execution(kernel='rbf' and C=1 ): 0:00:00.435017\n"
     ]
    }
   ],
   "source": [
    "start_time = datetime.now()\n",
    "X_train_scale = preprocessing.scale(X_train)\n",
    "X_valid_scale = preprocessing.scale(X_test)\n",
    "clf = LinearSVC(random_state=0, tol=1e-5)\n",
    "clf.fit(X_train_scale, y_train)\n",
    "print(\"SVC time execution(kernel='rbf' and C=1 ):\",\n",
    "     datetime.now() - start_time)\n"
   ]
  },
  {
   "cell_type": "code",
   "execution_count": 77,
   "metadata": {},
   "outputs": [
    {
     "data": {
      "text/plain": [
       "(2000, 2)"
      ]
     },
     "execution_count": 77,
     "metadata": {},
     "output_type": "execute_result"
    }
   ],
   "source": [
    "prob.shape"
   ]
  },
  {
   "cell_type": "code",
   "execution_count": 78,
   "metadata": {},
   "outputs": [
    {
     "name": "stdout",
     "output_type": "stream",
     "text": [
      "/home/neham/apex/EE5180\r\n"
     ]
    }
   ],
   "source": [
    "!pwd"
   ]
  },
  {
   "cell_type": "code",
   "execution_count": 79,
   "metadata": {},
   "outputs": [],
   "source": [
    "p = np.array(clf.decision_function(X_valid_scale)) # decision is a voting function\n",
    "prob = np.array([np.exp(p),1-np.exp(p)]).T\n",
    "pd.DataFrame(prob).to_csv('svm_preds_shrutime.csv',index=False)\n"
   ]
  },
  {
   "cell_type": "code",
   "execution_count": 22,
   "metadata": {},
   "outputs": [
    {
     "name": "stdout",
     "output_type": "stream",
     "text": [
      "Train accuracy = 0.806875, Test accuracy = 0.8075\n"
     ]
    }
   ],
   "source": [
    "\n",
    "prediction = clf.predict(X_train_scale)\n",
    "acc_score_train = accuracy_score(y_train, prediction)\n",
    "prediction = clf.predict(X_valid_scale)\n",
    "acc_score_valid = accuracy_score(y_test, prediction)\n",
    "print(\"Train accuracy = {0}, Test accuracy = {1}\".format(acc_score_train, acc_score_valid))"
   ]
  },
  {
   "cell_type": "code",
   "execution_count": null,
   "metadata": {},
   "outputs": [],
   "source": [
    "pd.DataFrame(preds_test).to_csv('xgboost_preds_shrutime.csv')\n"
   ]
  },
  {
   "cell_type": "code",
   "execution_count": 71,
   "metadata": {},
   "outputs": [
    {
     "name": "stdout",
     "output_type": "stream",
     "text": [
      "0:\tlearn: 0.8628750\ttest: 0.8520000\tbest: 0.8520000 (0)\ttotal: 43.7ms\tremaining: 3m 38s\n",
      "1000:\tlearn: 0.8835000\ttest: 0.8575000\tbest: 0.8580000 (428)\ttotal: 50.3s\tremaining: 3m 21s\n",
      "2000:\tlearn: 0.8975000\ttest: 0.8570000\tbest: 0.8595000 (1341)\ttotal: 2m 57s\tremaining: 4m 25s\n",
      "bestTest = 0.8595\n",
      "bestIteration = 1341\n",
      "Shrink model to first 1342 iterations.\n"
     ]
    },
    {
     "data": {
      "text/plain": [
       "<catboost.core.CatBoostClassifier at 0x7f44880865b0>"
      ]
     },
     "execution_count": 71,
     "metadata": {},
     "output_type": "execute_result"
    }
   ],
   "source": [
    "cat_params = {\n",
    "    'iterations': 5000,\n",
    "    'learning_rate': 0.01,\n",
    "    'od_wait': 1000,\n",
    "    'depth': 10,\n",
    "    'task_type' : 'GPU',\n",
    "    'l2_leaf_reg': 4,\n",
    "    'eval_metric': 'Accuracy',\n",
    "    'devices' : '0',\n",
    "    'verbose' : 1000\n",
    "}\n",
    "cat = CatBoostClassifier(**cat_params)\n",
    "cat.fit(X_train, y_train, eval_set=(X_test, y_test))"
   ]
  },
  {
   "cell_type": "code",
   "execution_count": 80,
   "metadata": {},
   "outputs": [],
   "source": [
    "preds_test = np.array(cat.predict_proba(X_test))\n",
    "pd.DataFrame(preds_test).to_csv('cat_boost_preds_shrutime.csv',index=False)"
   ]
  },
  {
   "cell_type": "code",
   "execution_count": null,
   "metadata": {},
   "outputs": [],
   "source": []
  }
 ],
 "metadata": {
  "kernelspec": {
   "display_name": "Python 3",
   "language": "python",
   "name": "python3"
  },
  "language_info": {
   "codemirror_mode": {
    "name": "ipython",
    "version": 3
   },
   "file_extension": ".py",
   "mimetype": "text/x-python",
   "name": "python",
   "nbconvert_exporter": "python",
   "pygments_lexer": "ipython3",
   "version": "3.9.5"
  },
  "toc": {
   "base_numbering": 1,
   "nav_menu": {},
   "number_sections": true,
   "sideBar": true,
   "skip_h1_title": false,
   "title_cell": "Table of Contents",
   "title_sidebar": "Contents",
   "toc_cell": false,
   "toc_position": {},
   "toc_section_display": true,
   "toc_window_display": false
  }
 },
 "nbformat": 4,
 "nbformat_minor": 2
}
