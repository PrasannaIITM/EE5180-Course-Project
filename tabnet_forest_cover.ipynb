{
  "nbformat": 4,
  "nbformat_minor": 0,
  "metadata": {
    "colab": {
      "name": "forest_hyper.ipynb",
      "provenance": [],
      "collapsed_sections": []
    },
    "kernelspec": {
      "name": "python3",
      "display_name": "Python 3"
    },
    "language_info": {
      "name": "python"
    },
    "accelerator": "GPU"
  },
  "cells": [
    {
      "cell_type": "code",
      "source": [
        "!pip install wget"
      ],
      "metadata": {
        "colab": {
          "base_uri": "https://localhost:8080/"
        },
        "id": "sAifyvJ4yht0",
        "outputId": "bfbde75a-14f2-48dc-9272-c902d4ed1d5a"
      },
      "execution_count": null,
      "outputs": [
        {
          "output_type": "stream",
          "name": "stdout",
          "text": [
            "Collecting wget\n",
            "  Downloading wget-3.2.zip (10 kB)\n",
            "Building wheels for collected packages: wget\n",
            "  Building wheel for wget (setup.py) ... \u001b[?25l\u001b[?25hdone\n",
            "  Created wheel for wget: filename=wget-3.2-py3-none-any.whl size=9675 sha256=ccbe35e3075b7b8603ea90d81ff49fb65d156d715c354ecd944773e9dcc0813c\n",
            "  Stored in directory: /root/.cache/pip/wheels/a1/b6/7c/0e63e34eb06634181c63adacca38b79ff8f35c37e3c13e3c02\n",
            "Successfully built wget\n",
            "Installing collected packages: wget\n",
            "Successfully installed wget-3.2\n"
          ]
        }
      ]
    },
    {
      "cell_type": "code",
      "source": [
        "!nvidia-smi"
      ],
      "metadata": {
        "colab": {
          "base_uri": "https://localhost:8080/"
        },
        "id": "w0y-jubQY3Ge",
        "outputId": "f39b54b4-1fdd-460b-eb33-99bf471c10cb"
      },
      "execution_count": null,
      "outputs": [
        {
          "output_type": "stream",
          "name": "stdout",
          "text": [
            "Fri Apr 15 00:33:03 2022       \n",
            "+-----------------------------------------------------------------------------+\n",
            "| NVIDIA-SMI 460.32.03    Driver Version: 460.32.03    CUDA Version: 11.2     |\n",
            "|-------------------------------+----------------------+----------------------+\n",
            "| GPU  Name        Persistence-M| Bus-Id        Disp.A | Volatile Uncorr. ECC |\n",
            "| Fan  Temp  Perf  Pwr:Usage/Cap|         Memory-Usage | GPU-Util  Compute M. |\n",
            "|                               |                      |               MIG M. |\n",
            "|===============================+======================+======================|\n",
            "|   0  Tesla T4            Off  | 00000000:00:04.0 Off |                    0 |\n",
            "| N/A   50C    P8    10W /  70W |      0MiB / 15109MiB |      0%      Default |\n",
            "|                               |                      |                  N/A |\n",
            "+-------------------------------+----------------------+----------------------+\n",
            "                                                                               \n",
            "+-----------------------------------------------------------------------------+\n",
            "| Processes:                                                                  |\n",
            "|  GPU   GI   CI        PID   Type   Process name                  GPU Memory |\n",
            "|        ID   ID                                                   Usage      |\n",
            "|=============================================================================|\n",
            "|  No running processes found                                                 |\n",
            "+-----------------------------------------------------------------------------+\n"
          ]
        }
      ]
    },
    {
      "cell_type": "code",
      "execution_count": null,
      "metadata": {
        "id": "i5FHvzMNyLyM"
      },
      "outputs": [],
      "source": [
        "import gzip\n",
        "import os\n",
        "import shutil\n",
        "import pandas as pd\n",
        "from sklearn.model_selection import train_test_split\n",
        "import wget\n",
        "\n",
        "URL = 'https://archive.ics.uci.edu/ml/machine-learning-databases/covtype/covtype.data.gz'\n",
        "\n",
        "\n",
        "# def main():\n",
        "\n",
        "if not os.path.exists('./data'):\n",
        "  os.makedirs('./data')\n",
        "\n",
        "filename = wget.download(URL)\n",
        "with gzip.open(filename, 'rb') as f_in:\n",
        "  with open('data/covtype.csv', 'wb') as f_out:\n",
        "    shutil.copyfileobj(f_in, f_out)\n",
        "\n",
        "df = pd.read_csv('data/covtype.csv')\n",
        "n_total = len(df)\n",
        "\n",
        "  # # Train, val and test split follows\n",
        "  # # Rory Mitchell, Andrey Adinets, Thejaswi Rao, and Eibe Frank.\n",
        "  # # Xgboost: Scalable GPU accelerated learning. arXiv:1806.11248, 2018.\n",
        "\n",
        "  # train_val_indices, test_indices = train_test_split(\n",
        "  #     range(n_total), test_size=0.2, random_state=0)\n",
        "  # train_indices, val_indices = train_test_split(\n",
        "  #     train_val_indices, test_size=0.2 / 0.6, random_state=0)\n",
        "\n",
        "  # traindf = df.iloc[train_indices]\n",
        "  # valdf = df.iloc[val_indices]\n",
        "  # testdf = df.iloc[test_indices]\n",
        "  # traindf = traindf.sample(frac=1)\n",
        "\n",
        "  # traindf.to_csv('data/train_covertype.csv', index=False, header=False)\n",
        "  # valdf.to_csv('data/val_covertype.csv', index=False, header=False)\n",
        "  # testdf.to_csv('data/test_covertype.csv', index=False, header=False)\n",
        "\n",
        "# if __name__ == '__main__':\n",
        "#   main()"
      ]
    },
    {
      "cell_type": "code",
      "source": [
        "df.head()"
      ],
      "metadata": {
        "colab": {
          "base_uri": "https://localhost:8080/",
          "height": 235
        },
        "id": "KjSlHFDktk7e",
        "outputId": "09cb4734-2c75-4a09-b7cd-882c4b424402"
      },
      "execution_count": null,
      "outputs": [
        {
          "output_type": "execute_result",
          "data": {
            "text/plain": [
              "   2596   51   3  258    0   510  221  232  148  6279  ...  0.34  0.35  0.36  \\\n",
              "0  2590   56   2  212   -6   390  220  235  151  6225  ...     0     0     0   \n",
              "1  2804  139   9  268   65  3180  234  238  135  6121  ...     0     0     0   \n",
              "2  2785  155  18  242  118  3090  238  238  122  6211  ...     0     0     0   \n",
              "3  2595   45   2  153   -1   391  220  234  150  6172  ...     0     0     0   \n",
              "4  2579  132   6  300  -15    67  230  237  140  6031  ...     0     0     0   \n",
              "\n",
              "   0.37  0.38  0.39  0.40  0.41  0.42  5  \n",
              "0     0     0     0     0     0     0  5  \n",
              "1     0     0     0     0     0     0  2  \n",
              "2     0     0     0     0     0     0  2  \n",
              "3     0     0     0     0     0     0  5  \n",
              "4     0     0     0     0     0     0  2  \n",
              "\n",
              "[5 rows x 55 columns]"
            ],
            "text/html": [
              "\n",
              "  <div id=\"df-8e7dd1cb-afef-4559-bc0f-1d2df57dc9eb\">\n",
              "    <div class=\"colab-df-container\">\n",
              "      <div>\n",
              "<style scoped>\n",
              "    .dataframe tbody tr th:only-of-type {\n",
              "        vertical-align: middle;\n",
              "    }\n",
              "\n",
              "    .dataframe tbody tr th {\n",
              "        vertical-align: top;\n",
              "    }\n",
              "\n",
              "    .dataframe thead th {\n",
              "        text-align: right;\n",
              "    }\n",
              "</style>\n",
              "<table border=\"1\" class=\"dataframe\">\n",
              "  <thead>\n",
              "    <tr style=\"text-align: right;\">\n",
              "      <th></th>\n",
              "      <th>2596</th>\n",
              "      <th>51</th>\n",
              "      <th>3</th>\n",
              "      <th>258</th>\n",
              "      <th>0</th>\n",
              "      <th>510</th>\n",
              "      <th>221</th>\n",
              "      <th>232</th>\n",
              "      <th>148</th>\n",
              "      <th>6279</th>\n",
              "      <th>...</th>\n",
              "      <th>0.34</th>\n",
              "      <th>0.35</th>\n",
              "      <th>0.36</th>\n",
              "      <th>0.37</th>\n",
              "      <th>0.38</th>\n",
              "      <th>0.39</th>\n",
              "      <th>0.40</th>\n",
              "      <th>0.41</th>\n",
              "      <th>0.42</th>\n",
              "      <th>5</th>\n",
              "    </tr>\n",
              "  </thead>\n",
              "  <tbody>\n",
              "    <tr>\n",
              "      <th>0</th>\n",
              "      <td>2590</td>\n",
              "      <td>56</td>\n",
              "      <td>2</td>\n",
              "      <td>212</td>\n",
              "      <td>-6</td>\n",
              "      <td>390</td>\n",
              "      <td>220</td>\n",
              "      <td>235</td>\n",
              "      <td>151</td>\n",
              "      <td>6225</td>\n",
              "      <td>...</td>\n",
              "      <td>0</td>\n",
              "      <td>0</td>\n",
              "      <td>0</td>\n",
              "      <td>0</td>\n",
              "      <td>0</td>\n",
              "      <td>0</td>\n",
              "      <td>0</td>\n",
              "      <td>0</td>\n",
              "      <td>0</td>\n",
              "      <td>5</td>\n",
              "    </tr>\n",
              "    <tr>\n",
              "      <th>1</th>\n",
              "      <td>2804</td>\n",
              "      <td>139</td>\n",
              "      <td>9</td>\n",
              "      <td>268</td>\n",
              "      <td>65</td>\n",
              "      <td>3180</td>\n",
              "      <td>234</td>\n",
              "      <td>238</td>\n",
              "      <td>135</td>\n",
              "      <td>6121</td>\n",
              "      <td>...</td>\n",
              "      <td>0</td>\n",
              "      <td>0</td>\n",
              "      <td>0</td>\n",
              "      <td>0</td>\n",
              "      <td>0</td>\n",
              "      <td>0</td>\n",
              "      <td>0</td>\n",
              "      <td>0</td>\n",
              "      <td>0</td>\n",
              "      <td>2</td>\n",
              "    </tr>\n",
              "    <tr>\n",
              "      <th>2</th>\n",
              "      <td>2785</td>\n",
              "      <td>155</td>\n",
              "      <td>18</td>\n",
              "      <td>242</td>\n",
              "      <td>118</td>\n",
              "      <td>3090</td>\n",
              "      <td>238</td>\n",
              "      <td>238</td>\n",
              "      <td>122</td>\n",
              "      <td>6211</td>\n",
              "      <td>...</td>\n",
              "      <td>0</td>\n",
              "      <td>0</td>\n",
              "      <td>0</td>\n",
              "      <td>0</td>\n",
              "      <td>0</td>\n",
              "      <td>0</td>\n",
              "      <td>0</td>\n",
              "      <td>0</td>\n",
              "      <td>0</td>\n",
              "      <td>2</td>\n",
              "    </tr>\n",
              "    <tr>\n",
              "      <th>3</th>\n",
              "      <td>2595</td>\n",
              "      <td>45</td>\n",
              "      <td>2</td>\n",
              "      <td>153</td>\n",
              "      <td>-1</td>\n",
              "      <td>391</td>\n",
              "      <td>220</td>\n",
              "      <td>234</td>\n",
              "      <td>150</td>\n",
              "      <td>6172</td>\n",
              "      <td>...</td>\n",
              "      <td>0</td>\n",
              "      <td>0</td>\n",
              "      <td>0</td>\n",
              "      <td>0</td>\n",
              "      <td>0</td>\n",
              "      <td>0</td>\n",
              "      <td>0</td>\n",
              "      <td>0</td>\n",
              "      <td>0</td>\n",
              "      <td>5</td>\n",
              "    </tr>\n",
              "    <tr>\n",
              "      <th>4</th>\n",
              "      <td>2579</td>\n",
              "      <td>132</td>\n",
              "      <td>6</td>\n",
              "      <td>300</td>\n",
              "      <td>-15</td>\n",
              "      <td>67</td>\n",
              "      <td>230</td>\n",
              "      <td>237</td>\n",
              "      <td>140</td>\n",
              "      <td>6031</td>\n",
              "      <td>...</td>\n",
              "      <td>0</td>\n",
              "      <td>0</td>\n",
              "      <td>0</td>\n",
              "      <td>0</td>\n",
              "      <td>0</td>\n",
              "      <td>0</td>\n",
              "      <td>0</td>\n",
              "      <td>0</td>\n",
              "      <td>0</td>\n",
              "      <td>2</td>\n",
              "    </tr>\n",
              "  </tbody>\n",
              "</table>\n",
              "<p>5 rows × 55 columns</p>\n",
              "</div>\n",
              "      <button class=\"colab-df-convert\" onclick=\"convertToInteractive('df-8e7dd1cb-afef-4559-bc0f-1d2df57dc9eb')\"\n",
              "              title=\"Convert this dataframe to an interactive table.\"\n",
              "              style=\"display:none;\">\n",
              "        \n",
              "  <svg xmlns=\"http://www.w3.org/2000/svg\" height=\"24px\"viewBox=\"0 0 24 24\"\n",
              "       width=\"24px\">\n",
              "    <path d=\"M0 0h24v24H0V0z\" fill=\"none\"/>\n",
              "    <path d=\"M18.56 5.44l.94 2.06.94-2.06 2.06-.94-2.06-.94-.94-2.06-.94 2.06-2.06.94zm-11 1L8.5 8.5l.94-2.06 2.06-.94-2.06-.94L8.5 2.5l-.94 2.06-2.06.94zm10 10l.94 2.06.94-2.06 2.06-.94-2.06-.94-.94-2.06-.94 2.06-2.06.94z\"/><path d=\"M17.41 7.96l-1.37-1.37c-.4-.4-.92-.59-1.43-.59-.52 0-1.04.2-1.43.59L10.3 9.45l-7.72 7.72c-.78.78-.78 2.05 0 2.83L4 21.41c.39.39.9.59 1.41.59.51 0 1.02-.2 1.41-.59l7.78-7.78 2.81-2.81c.8-.78.8-2.07 0-2.86zM5.41 20L4 18.59l7.72-7.72 1.47 1.35L5.41 20z\"/>\n",
              "  </svg>\n",
              "      </button>\n",
              "      \n",
              "  <style>\n",
              "    .colab-df-container {\n",
              "      display:flex;\n",
              "      flex-wrap:wrap;\n",
              "      gap: 12px;\n",
              "    }\n",
              "\n",
              "    .colab-df-convert {\n",
              "      background-color: #E8F0FE;\n",
              "      border: none;\n",
              "      border-radius: 50%;\n",
              "      cursor: pointer;\n",
              "      display: none;\n",
              "      fill: #1967D2;\n",
              "      height: 32px;\n",
              "      padding: 0 0 0 0;\n",
              "      width: 32px;\n",
              "    }\n",
              "\n",
              "    .colab-df-convert:hover {\n",
              "      background-color: #E2EBFA;\n",
              "      box-shadow: 0px 1px 2px rgba(60, 64, 67, 0.3), 0px 1px 3px 1px rgba(60, 64, 67, 0.15);\n",
              "      fill: #174EA6;\n",
              "    }\n",
              "\n",
              "    [theme=dark] .colab-df-convert {\n",
              "      background-color: #3B4455;\n",
              "      fill: #D2E3FC;\n",
              "    }\n",
              "\n",
              "    [theme=dark] .colab-df-convert:hover {\n",
              "      background-color: #434B5C;\n",
              "      box-shadow: 0px 1px 3px 1px rgba(0, 0, 0, 0.15);\n",
              "      filter: drop-shadow(0px 1px 2px rgba(0, 0, 0, 0.3));\n",
              "      fill: #FFFFFF;\n",
              "    }\n",
              "  </style>\n",
              "\n",
              "      <script>\n",
              "        const buttonEl =\n",
              "          document.querySelector('#df-8e7dd1cb-afef-4559-bc0f-1d2df57dc9eb button.colab-df-convert');\n",
              "        buttonEl.style.display =\n",
              "          google.colab.kernel.accessAllowed ? 'block' : 'none';\n",
              "\n",
              "        async function convertToInteractive(key) {\n",
              "          const element = document.querySelector('#df-8e7dd1cb-afef-4559-bc0f-1d2df57dc9eb');\n",
              "          const dataTable =\n",
              "            await google.colab.kernel.invokeFunction('convertToInteractive',\n",
              "                                                     [key], {});\n",
              "          if (!dataTable) return;\n",
              "\n",
              "          const docLinkHtml = 'Like what you see? Visit the ' +\n",
              "            '<a target=\"_blank\" href=https://colab.research.google.com/notebooks/data_table.ipynb>data table notebook</a>'\n",
              "            + ' to learn more about interactive tables.';\n",
              "          element.innerHTML = '';\n",
              "          dataTable['output_type'] = 'display_data';\n",
              "          await google.colab.output.renderOutput(dataTable, element);\n",
              "          const docLink = document.createElement('div');\n",
              "          docLink.innerHTML = docLinkHtml;\n",
              "          element.appendChild(docLink);\n",
              "        }\n",
              "      </script>\n",
              "    </div>\n",
              "  </div>\n",
              "  "
            ]
          },
          "metadata": {},
          "execution_count": 4
        }
      ]
    },
    {
      "cell_type": "code",
      "source": [
        "!pwd"
      ],
      "metadata": {
        "colab": {
          "base_uri": "https://localhost:8080/"
        },
        "id": "EBBzKbfQyuBs",
        "outputId": "c5cee433-bae1-4821-cf7c-2f6397eb4ce6"
      },
      "execution_count": null,
      "outputs": [
        {
          "output_type": "stream",
          "name": "stdout",
          "text": [
            "/content\n"
          ]
        }
      ]
    },
    {
      "cell_type": "code",
      "source": [
        "!ls"
      ],
      "metadata": {
        "colab": {
          "base_uri": "https://localhost:8080/"
        },
        "id": "-GO_hXj_ywv2",
        "outputId": "509f6ed6-ea58-4348-9b8b-ecd37131958d"
      },
      "execution_count": null,
      "outputs": [
        {
          "output_type": "stream",
          "name": "stdout",
          "text": [
            "covtype.data.gz  data  sample_data\n"
          ]
        }
      ]
    },
    {
      "cell_type": "code",
      "source": [
        "# Dataset size\n",
        "# N_TRAIN_SAMPLES = 309871\n",
        "N_VAL_SAMPLES = 154937\n",
        "N_TEST_SAMPLES = 116203\n",
        "NUM_FEATURES = 54\n",
        "NUM_CLASSES = 7\n",
        "\n",
        "# All feature columns in the data\n",
        "LABEL_COLUMN = \"Covertype\"\n",
        "\n",
        "BOOL_COLUMNS = [\n",
        "    \"Wilderness_Area1\", \"Wilderness_Area2\", \"Wilderness_Area3\",\n",
        "    \"Wilderness_Area4\", \"Soil_Type1\", \"Soil_Type2\", \"Soil_Type3\", \"Soil_Type4\",\n",
        "    \"Soil_Type5\", \"Soil_Type6\", \"Soil_Type7\", \"Soil_Type8\", \"Soil_Type9\",\n",
        "    \"Soil_Type10\", \"Soil_Type11\", \"Soil_Type12\", \"Soil_Type13\", \"Soil_Type14\",\n",
        "    \"Soil_Type15\", \"Soil_Type16\", \"Soil_Type17\", \"Soil_Type18\", \"Soil_Type19\",\n",
        "    \"Soil_Type20\", \"Soil_Type21\", \"Soil_Type22\", \"Soil_Type23\", \"Soil_Type24\",\n",
        "    \"Soil_Type25\", \"Soil_Type26\", \"Soil_Type27\", \"Soil_Type28\", \"Soil_Type29\",\n",
        "    \"Soil_Type30\", \"Soil_Type31\", \"Soil_Type32\", \"Soil_Type33\", \"Soil_Type34\",\n",
        "    \"Soil_Type35\", \"Soil_Type36\", \"Soil_Type37\", \"Soil_Type38\", \"Soil_Type39\",\n",
        "    \"Soil_Type40\"\n",
        "]\n",
        "\n",
        "INT_COLUMNS = [\n",
        "    \"Elevation\", \"Aspect\", \"Slope\", \"Horizontal_Distance_To_Hydrology\",\n",
        "    \"Vertical_Distance_To_Hydrology\", \"Horizontal_Distance_To_Roadways\",\n",
        "    \"Hillshade_9am\", \"Hillshade_Noon\", \"Hillshade_3pm\",\n",
        "    \"Horizontal_Distance_To_Fire_Points\"\n",
        "]"
      ],
      "metadata": {
        "id": "0Os9Z9ItyyOi"
      },
      "execution_count": null,
      "outputs": []
    },
    {
      "cell_type": "code",
      "source": [
        "! pip install pytorch-tabnet"
      ],
      "metadata": {
        "colab": {
          "base_uri": "https://localhost:8080/"
        },
        "id": "CRRrz8z3zAnj",
        "outputId": "b212e38c-3abf-4f8e-b8c5-8bf8d412209b"
      },
      "execution_count": null,
      "outputs": [
        {
          "output_type": "stream",
          "name": "stdout",
          "text": [
            "Collecting pytorch-tabnet\n",
            "  Downloading pytorch_tabnet-3.1.1-py3-none-any.whl (39 kB)\n",
            "Requirement already satisfied: torch<2.0,>=1.2 in /usr/local/lib/python3.7/dist-packages (from pytorch-tabnet) (1.10.0+cu111)\n",
            "Requirement already satisfied: scipy>1.4 in /usr/local/lib/python3.7/dist-packages (from pytorch-tabnet) (1.4.1)\n",
            "Requirement already satisfied: numpy<2.0,>=1.17 in /usr/local/lib/python3.7/dist-packages (from pytorch-tabnet) (1.21.5)\n",
            "Requirement already satisfied: tqdm<5.0,>=4.36 in /usr/local/lib/python3.7/dist-packages (from pytorch-tabnet) (4.64.0)\n",
            "Requirement already satisfied: scikit_learn>0.21 in /usr/local/lib/python3.7/dist-packages (from pytorch-tabnet) (1.0.2)\n",
            "Requirement already satisfied: threadpoolctl>=2.0.0 in /usr/local/lib/python3.7/dist-packages (from scikit_learn>0.21->pytorch-tabnet) (3.1.0)\n",
            "Requirement already satisfied: joblib>=0.11 in /usr/local/lib/python3.7/dist-packages (from scikit_learn>0.21->pytorch-tabnet) (1.1.0)\n",
            "Requirement already satisfied: typing-extensions in /usr/local/lib/python3.7/dist-packages (from torch<2.0,>=1.2->pytorch-tabnet) (4.1.1)\n",
            "Installing collected packages: pytorch-tabnet\n",
            "Successfully installed pytorch-tabnet-3.1.1\n"
          ]
        }
      ]
    },
    {
      "cell_type": "code",
      "source": [
        "from pytorch_tabnet.tab_model import TabNetClassifier\n",
        "\n",
        "import torch\n",
        "from sklearn.preprocessing import LabelEncoder\n",
        "from sklearn.metrics import accuracy_score\n",
        "from sklearn.model_selection import train_test_split\n",
        "import pandas as pd\n",
        "import numpy as np\n",
        "np.random.seed(0)\n",
        "\n",
        "\n",
        "import os\n",
        "from pathlib import Path\n",
        "import shutil\n",
        "import gzip\n",
        "\n",
        "from matplotlib import pyplot as plt\n",
        "%matplotlib inline"
      ],
      "metadata": {
        "id": "bCdVg4CXzQIN"
      },
      "execution_count": null,
      "outputs": []
    },
    {
      "cell_type": "code",
      "source": [
        "# train=pd.read_csv('/content/data/train_covertype.csv')\n",
        "# test=pd.read_csv('/content/data/test_covertype.csv')\n",
        "# val=pd.read_csv('/content/data/val_covertype.csv')"
      ],
      "metadata": {
        "id": "9RB96YELzf9G"
      },
      "execution_count": null,
      "outputs": []
    },
    {
      "cell_type": "code",
      "source": [
        "df.columns=[\"Elevation\", \"Aspect\", \"Slope\", \"Horizontal_Distance_To_Hydrology\",\n",
        "    \"Vertical_Distance_To_Hydrology\", \"Horizontal_Distance_To_Roadways\",\n",
        "    \"Hillshade_9am\", \"Hillshade_Noon\", \"Hillshade_3pm\",\n",
        "    \"Horizontal_Distance_To_Fire_Points\", \"Wilderness_Area1\", \"Wilderness_Area2\", \"Wilderness_Area3\",\n",
        "    \"Wilderness_Area4\", \"Soil_Type1\", \"Soil_Type2\", \"Soil_Type3\", \"Soil_Type4\",\n",
        "    \"Soil_Type5\", \"Soil_Type6\", \"Soil_Type7\", \"Soil_Type8\", \"Soil_Type9\",\n",
        "    \"Soil_Type10\", \"Soil_Type11\", \"Soil_Type12\", \"Soil_Type13\", \"Soil_Type14\",\n",
        "    \"Soil_Type15\", \"Soil_Type16\", \"Soil_Type17\", \"Soil_Type18\", \"Soil_Type19\",\n",
        "    \"Soil_Type20\", \"Soil_Type21\", \"Soil_Type22\", \"Soil_Type23\", \"Soil_Type24\",\n",
        "    \"Soil_Type25\", \"Soil_Type26\", \"Soil_Type27\", \"Soil_Type28\", \"Soil_Type29\",\n",
        "    \"Soil_Type30\", \"Soil_Type31\", \"Soil_Type32\", \"Soil_Type33\", \"Soil_Type34\",\n",
        "    \"Soil_Type35\", \"Soil_Type36\", \"Soil_Type37\", \"Soil_Type38\", \"Soil_Type39\",\n",
        "    \"Soil_Type40\", \"Covertype\"]\n"
      ],
      "metadata": {
        "id": "HG6rxL5Lz2d1"
      },
      "execution_count": null,
      "outputs": []
    },
    {
      "cell_type": "code",
      "source": [
        "!pip install fast_ml"
      ],
      "metadata": {
        "colab": {
          "base_uri": "https://localhost:8080/"
        },
        "id": "8ftBGh_70f0f",
        "outputId": "f3f6603b-bcde-4bbf-e751-1f3e3f28d2ae"
      },
      "execution_count": null,
      "outputs": [
        {
          "output_type": "stream",
          "name": "stdout",
          "text": [
            "Collecting fast_ml\n",
            "  Downloading fast_ml-3.68-py3-none-any.whl (42 kB)\n",
            "\u001b[?25l\r\u001b[K     |███████▉                        | 10 kB 23.0 MB/s eta 0:00:01\r\u001b[K     |███████████████▋                | 20 kB 11.3 MB/s eta 0:00:01\r\u001b[K     |███████████████████████▍        | 30 kB 9.3 MB/s eta 0:00:01\r\u001b[K     |███████████████████████████████▏| 40 kB 8.5 MB/s eta 0:00:01\r\u001b[K     |████████████████████████████████| 42 kB 544 kB/s \n",
            "\u001b[?25hInstalling collected packages: fast-ml\n",
            "Successfully installed fast-ml-3.68\n"
          ]
        }
      ]
    },
    {
      "cell_type": "code",
      "source": [
        "from fast_ml.model_development import train_valid_test_split\n",
        "\n",
        "x_train, y_train, x_valid, y_valid, x_test, y_test = train_valid_test_split(df, target = 'Covertype', \n",
        "                                                                            train_size=0.8, valid_size=0.1, test_size = 0.1)\n",
        "x_train = x_train.to_numpy()\n",
        "y_train = y_train.to_numpy()\n",
        "#y_train = np.expand_dims(y_train, axis=1)\n",
        "#y_train = convert_to_one_hot(y_train)\n",
        "\n",
        "\n",
        "x_valid = x_valid.to_numpy()\n",
        "y_valid = y_valid.to_numpy()\n",
        "#y_valid = np.expand_dims(y_valid, axis=1)\n",
        "#y_valid = convert_to_one_hot(y_valid)\n",
        "\n",
        "x_test = x_test.to_numpy()\n",
        "y_test = y_test.to_numpy()\n",
        "#y_test = np.expand_dims(y_test, axis=1)\n",
        "#y_test = convert_to_one_hot(y_test)\n",
        "\n",
        "print(x_train.shape)\n",
        "print(y_train.shape)\n",
        "\n",
        "print(x_valid.shape)\n",
        "print(y_valid.shape)\n",
        "\n",
        "print(x_test.shape)\n",
        "print(y_test.shape)\n",
        "\n",
        "\n",
        "print(df.shape)\n",
        "y = df[df.columns[-1]]\n",
        "y = y.to_numpy()\n",
        "target_cols = [\"Covertype\"]"
      ],
      "metadata": {
        "colab": {
          "base_uri": "https://localhost:8080/"
        },
        "id": "_TBFKCB5t9Se",
        "outputId": "eb284061-68e3-410f-e3c5-fedd94471feb"
      },
      "execution_count": null,
      "outputs": [
        {
          "output_type": "stream",
          "name": "stdout",
          "text": [
            "(464808, 54)\n",
            "(464808,)\n",
            "(58101, 54)\n",
            "(58101,)\n",
            "(58102, 54)\n",
            "(58102,)\n",
            "(581011, 55)\n"
          ]
        }
      ]
    },
    {
      "cell_type": "code",
      "source": [
        "from pytorch_tabnet.tab_model import TabNetClassifier, TabNetRegressor"
      ],
      "metadata": {
        "id": "4cQIPit30rxc"
      },
      "execution_count": null,
      "outputs": []
    },
    {
      "cell_type": "code",
      "source": [
        "from hyperopt import hp"
      ],
      "metadata": {
        "id": "ehT6opIV1Hcp"
      },
      "execution_count": null,
      "outputs": []
    },
    {
      "cell_type": "code",
      "source": [
        "import hyperopt"
      ],
      "metadata": {
        "id": "LFYiZ_cP1Tv3"
      },
      "execution_count": null,
      "outputs": []
    },
    {
      "cell_type": "code",
      "source": [
        "from sklearn.model_selection import KFold\n",
        "from sklearn.metrics import log_loss\n",
        "from sklearn.decomposition import PCA\n",
        "from sklearn.preprocessing import QuantileTransformer\n",
        "\n",
        "from hyperopt import fmin, tpe, Trials, STATUS_OK, STATUS_FAIL\n",
        "from hyperopt.pyll.base import scope\n",
        "from tqdm.notebook import tqdm\n",
        "\n",
        "import warnings\n",
        "warnings.filterwarnings('ignore')"
      ],
      "metadata": {
        "id": "omqi0I5u1Uvc"
      },
      "execution_count": null,
      "outputs": []
    },
    {
      "cell_type": "code",
      "source": [
        "import torch\n",
        "import torch.nn as nn"
      ],
      "metadata": {
        "id": "tsONlCvzXTR8"
      },
      "execution_count": null,
      "outputs": []
    },
    {
      "cell_type": "code",
      "source": [
        "x_train.shape"
      ],
      "metadata": {
        "colab": {
          "base_uri": "https://localhost:8080/"
        },
        "id": "S0iNA7AAVqTE",
        "outputId": "92080707-0daa-4c6d-9644-4a1222af9faa"
      },
      "execution_count": null,
      "outputs": [
        {
          "output_type": "execute_result",
          "data": {
            "text/plain": [
              "(464808, 54)"
            ]
          },
          "metadata": {},
          "execution_count": 19
        }
      ]
    },
    {
      "cell_type": "code",
      "source": [
        "def tb_ll_cv(space):\n",
        "  #print(\"hello\")\n",
        "  model=TabNetClassifier(n_a=int(space['n_a']), n_d=int(space['n_a']), n_steps=int(space['n_steps']), momentum=space['momentum'], gamma=space['gamma'], optimizer_params=dict(lr=space['lr']), device_name='cuda')\n",
        "  model.fit(x_train, y_train, eval_set=[(x_valid, y_valid)], batch_size=int(space['batch_size']),max_epochs=30,eval_metric=['logloss'])\n",
        "  print(model.history[\"val_0_logloss\"])\n",
        "  return min(model.history[\"val_0_logloss\"])\n"
      ],
      "metadata": {
        "id": "7yrQ0_k5IBnf"
      },
      "execution_count": null,
      "outputs": []
    },
    {
      "cell_type": "code",
      "source": [
        "reg_params = {'n_a': hp.quniform('feature_dim', 20, 60, 1),'n_steps': hp.quniform('n_steps', 1, 8, 1),'momentum': hp.uniform('momentum', np.exp(-5), np.exp(-1)),'gamma': hp.uniform('relaxation_factor', 0.3, 2),\n",
        "    'batch_size': hp.choice('batch_size',[512, 1024, 2048, 4096, 8192]), 'lr':hp.loguniform('learning_rate', -5, 0)\n",
        "}"
      ],
      "metadata": {
        "id": "JijpC5Xt1Yib"
      },
      "execution_count": null,
      "outputs": []
    },
    {
      "cell_type": "code",
      "source": [
        "trials=Trials()\n",
        "best=fmin(fn=tb_ll_cv, space=reg_params, algo=tpe.suggest, max_evals=10, trials=trials)"
      ],
      "metadata": {
        "colab": {
          "base_uri": "https://localhost:8080/"
        },
        "id": "1MF2xcftPs66",
        "outputId": "ef53812c-c0b2-419a-9c36-2138dde89a55"
      },
      "execution_count": null,
      "outputs": [
        {
          "output_type": "stream",
          "name": "stdout",
          "text": [
            "Device used : cuda\n",
            "epoch 0  | loss: 1.31714 | val_0_logloss: 2.32099 |  0:00:28s\n",
            "epoch 1  | loss: 0.79932 | val_0_logloss: 1.20567 |  0:00:50s\n",
            "epoch 2  | loss: 0.76878 | val_0_logloss: 0.80739 |  0:01:12s\n",
            "epoch 3  | loss: 0.94017 | val_0_logloss: 1.18589 |  0:01:34s\n",
            "epoch 4  | loss: 1.5783  | val_0_logloss: 5.26282 |  0:01:56s\n",
            "epoch 5  | loss: 1.03145 | val_0_logloss: 17.80411|  0:02:18s\n",
            "epoch 6  | loss: 0.94033 | val_0_logloss: 1.1036  |  0:02:40s\n",
            "epoch 7  | loss: 0.92835 | val_0_logloss: 17.80411|  0:03:01s\n",
            "epoch 8  | loss: 0.90318 | val_0_logloss: 1.09678 |  0:03:22s\n",
            "epoch 9  | loss: 0.89633 | val_0_logloss: 1.00974 |  0:03:43s\n",
            "epoch 10 | loss: 0.88787 | val_0_logloss: 17.80411|  0:04:05s\n",
            "epoch 11 | loss: 0.88    | val_0_logloss: 33.50976|  0:04:26s\n",
            "epoch 12 | loss: 0.87795 | val_0_logloss: 17.6016 |  0:04:47s\n",
            "\n",
            "Early stopping occurred at epoch 12 with best_epoch = 2 and best_val_0_logloss = 0.80739\n",
            "Best weights from best epoch are automatically used!\n",
            "[2.3209928392577104, 1.2056698713292484, 0.8073932995433976, 1.1858865498819986, 5.26281974870629, 17.80410583486114, 1.103597504649728, 17.80410583486114, 1.096777124243362, 1.0097403493778387, 17.80410583486114, 33.50976447115601, 17.60160022289855]\n",
            "Device used : cuda\n",
            "epoch 0  | loss: 0.88807 | val_0_logloss: 21.94514|  0:00:12s\n",
            "epoch 1  | loss: 0.63426 | val_0_logloss: 12.23928|  0:00:25s\n",
            "epoch 2  | loss: 0.59018 | val_0_logloss: 4.65524 |  0:00:37s\n",
            "epoch 3  | loss: 0.55495 | val_0_logloss: 1.89154 |  0:00:50s\n",
            "epoch 4  | loss: 0.52473 | val_0_logloss: 1.03368 |  0:01:02s\n",
            "epoch 5  | loss: 0.49656 | val_0_logloss: 0.68047 |  0:01:15s\n",
            "epoch 6  | loss: 0.47602 | val_0_logloss: 0.51403 |  0:01:27s\n",
            "epoch 7  | loss: 0.45772 | val_0_logloss: 0.43905 |  0:01:40s\n",
            "epoch 8  | loss: 0.43392 | val_0_logloss: 0.39909 |  0:01:53s\n",
            "epoch 9  | loss: 0.41927 | val_0_logloss: 0.37941 |  0:02:05s\n",
            "epoch 10 | loss: 0.40198 | val_0_logloss: 0.36019 |  0:02:17s\n",
            "epoch 11 | loss: 0.38717 | val_0_logloss: 0.34511 |  0:02:30s\n",
            "epoch 12 | loss: 0.37414 | val_0_logloss: 0.34076 |  0:02:43s\n",
            "epoch 13 | loss: 0.37135 | val_0_logloss: 0.32476 |  0:02:56s\n",
            "epoch 14 | loss: 0.35853 | val_0_logloss: 0.32066 |  0:03:10s\n",
            "epoch 15 | loss: 0.35111 | val_0_logloss: 0.30813 |  0:03:23s\n",
            "epoch 16 | loss: 0.34336 | val_0_logloss: 0.30248 |  0:03:36s\n",
            "epoch 17 | loss: 0.3367  | val_0_logloss: 0.29438 |  0:03:49s\n",
            "epoch 18 | loss: 0.33016 | val_0_logloss: 0.29158 |  0:04:03s\n",
            "epoch 19 | loss: 0.32635 | val_0_logloss: 0.2849  |  0:04:16s\n",
            "epoch 20 | loss: 0.31894 | val_0_logloss: 0.2775  |  0:04:29s\n",
            "epoch 21 | loss: 0.31581 | val_0_logloss: 0.28176 |  0:04:42s\n",
            "epoch 22 | loss: 0.31144 | val_0_logloss: 0.2714  |  0:04:55s\n",
            "epoch 23 | loss: 0.30773 | val_0_logloss: 0.27145 |  0:05:09s\n",
            "epoch 24 | loss: 0.30083 | val_0_logloss: 0.25946 |  0:05:22s\n",
            "epoch 25 | loss: 0.30296 | val_0_logloss: 0.25787 |  0:05:36s\n",
            "epoch 26 | loss: 0.29567 | val_0_logloss: 0.25203 |  0:05:49s\n",
            "epoch 27 | loss: 0.29277 | val_0_logloss: 0.25185 |  0:06:03s\n",
            "epoch 28 | loss: 0.2882  | val_0_logloss: 0.24813 |  0:06:16s\n",
            "epoch 29 | loss: 0.28658 | val_0_logloss: 0.24929 |  0:06:29s\n",
            "Stop training because you reached max_epochs = 30 with best_epoch = 28 and best_val_0_logloss = 0.24813\n",
            "Best weights from best epoch are automatically used!\n",
            "[21.945138400642882, 12.239276956325638, 4.655238029195023, 1.8915419118253336, 1.0336842846304042, 0.6804728249079849, 0.5140260904605228, 0.43904946410794304, 0.3990858562541548, 0.37941426159569686, 0.36018663005705903, 0.3451073419563549, 0.3407554747032955, 0.3247553839433768, 0.3206616998513705, 0.308125671533629, 0.30247993346673385, 0.2943804037036633, 0.29157750809003175, 0.2849004822947607, 0.27750457197534406, 0.2817629856249208, 0.2713993410369623, 0.27144763353942947, 0.2594587547813434, 0.2578700488765175, 0.2520263805219733, 0.25185443406565483, 0.24813055618325655, 0.2492861334059424]\n",
            "Device used : cuda\n",
            "epoch 0  | loss: 0.79458 | val_0_logloss: 7.21675 |  0:00:14s\n",
            "epoch 1  | loss: 0.66388 | val_0_logloss: 1.93276 |  0:00:28s\n",
            "epoch 2  | loss: 0.65172 | val_0_logloss: 0.82504 |  0:00:44s\n",
            "epoch 3  | loss: 0.60482 | val_0_logloss: 0.57075 |  0:00:58s\n",
            "epoch 4  | loss: 0.55416 | val_0_logloss: 0.52386 |  0:01:13s\n",
            "epoch 5  | loss: 0.55286 | val_0_logloss: 0.7438  |  0:01:27s\n",
            "epoch 6  | loss: 0.68022 | val_0_logloss: 0.61015 |  0:01:42s\n",
            "epoch 7  | loss: 0.58771 | val_0_logloss: 0.56273 |  0:01:56s\n",
            "epoch 8  | loss: 0.53874 | val_0_logloss: 0.49321 |  0:02:10s\n",
            "epoch 9  | loss: 0.50995 | val_0_logloss: 0.47246 |  0:02:25s\n",
            "epoch 10 | loss: 0.52249 | val_0_logloss: 0.44306 |  0:02:39s\n",
            "epoch 11 | loss: 0.45403 | val_0_logloss: 0.39588 |  0:02:53s\n",
            "epoch 12 | loss: 0.41802 | val_0_logloss: 0.37159 |  0:03:08s\n",
            "epoch 13 | loss: 0.39738 | val_0_logloss: 0.3532  |  0:03:22s\n",
            "epoch 14 | loss: 0.40761 | val_0_logloss: 0.38857 |  0:03:36s\n",
            "epoch 15 | loss: 0.40665 | val_0_logloss: 0.34494 |  0:03:51s\n",
            "epoch 16 | loss: 0.37108 | val_0_logloss: 0.32067 |  0:04:05s\n",
            "epoch 17 | loss: 0.37082 | val_0_logloss: 0.30855 |  0:04:20s\n",
            "epoch 18 | loss: 0.34347 | val_0_logloss: 0.30909 |  0:04:34s\n",
            "epoch 19 | loss: 0.35241 | val_0_logloss: 0.30359 |  0:04:48s\n",
            "epoch 20 | loss: 0.32959 | val_0_logloss: 0.80992 |  0:05:02s\n",
            "epoch 21 | loss: 0.63032 | val_0_logloss: 0.50267 |  0:05:17s\n",
            "epoch 22 | loss: 0.4763  | val_0_logloss: 0.39297 |  0:05:31s\n",
            "epoch 23 | loss: 0.41359 | val_0_logloss: 0.35528 |  0:05:46s\n",
            "epoch 24 | loss: 0.38296 | val_0_logloss: 0.31776 |  0:06:00s\n",
            "epoch 25 | loss: 0.36126 | val_0_logloss: 0.32246 |  0:06:14s\n",
            "epoch 26 | loss: 0.34368 | val_0_logloss: 0.29038 |  0:06:28s\n",
            "epoch 27 | loss: 0.33384 | val_0_logloss: 0.27712 |  0:06:42s\n",
            "epoch 28 | loss: 0.32481 | val_0_logloss: 0.27934 |  0:06:56s\n",
            "epoch 29 | loss: 0.3186  | val_0_logloss: 0.26662 |  0:07:10s\n",
            "Stop training because you reached max_epochs = 30 with best_epoch = 29 and best_val_0_logloss = 0.26662\n",
            "Best weights from best epoch are automatically used!\n",
            "[7.216752671971792, 1.9327595359022043, 0.8250371531420839, 0.5707492414947859, 0.5238558172538824, 0.7437979384978947, 0.610146933577343, 0.5627275564234163, 0.4932120702214068, 0.47246353161010385, 0.4430588245490462, 0.3958767120749495, 0.37159381993952684, 0.3532042507187049, 0.3885696742567909, 0.3449352639975965, 0.32066658655571517, 0.3085461145504758, 0.3090873527806809, 0.3035945950997345, 0.8099198146438288, 0.5026695650141039, 0.3929660306745378, 0.35527754946606327, 0.31775526471802173, 0.3224634274976587, 0.290380204949547, 0.2771151339903261, 0.2793409273262887, 0.26661783440662573]\n",
            "Device used : cuda\n",
            "epoch 0  | loss: 0.66166 | val_0_logloss: 0.58742 |  0:00:39s\n",
            "epoch 1  | loss: 0.54155 | val_0_logloss: 0.47256 |  0:01:18s\n",
            "epoch 2  | loss: 0.46887 | val_0_logloss: 0.4096  |  0:01:57s\n",
            "epoch 3  | loss: 0.42261 | val_0_logloss: 0.3721  |  0:02:36s\n",
            "epoch 4  | loss: 0.39585 | val_0_logloss: 0.35392 |  0:03:15s\n",
            "epoch 5  | loss: 0.37896 | val_0_logloss: 0.32615 |  0:03:53s\n",
            "epoch 6  | loss: 0.35725 | val_0_logloss: 0.31751 |  0:04:31s\n",
            "epoch 7  | loss: 0.34292 | val_0_logloss: 0.29602 |  0:05:10s\n",
            "epoch 8  | loss: 0.33355 | val_0_logloss: 0.29424 |  0:05:49s\n",
            "epoch 9  | loss: 0.32494 | val_0_logloss: 0.27873 |  0:06:27s\n",
            "epoch 10 | loss: 0.31637 | val_0_logloss: 0.28294 |  0:07:06s\n",
            "epoch 11 | loss: 0.31074 | val_0_logloss: 0.27604 |  0:07:46s\n",
            "epoch 12 | loss: 0.30439 | val_0_logloss: 0.26017 |  0:08:25s\n",
            "epoch 13 | loss: 0.29932 | val_0_logloss: 0.24916 |  0:09:04s\n",
            "epoch 14 | loss: 0.29584 | val_0_logloss: 0.2534  |  0:09:43s\n",
            "epoch 15 | loss: 0.29118 | val_0_logloss: 0.23704 |  0:10:22s\n",
            "epoch 16 | loss: 0.2898  | val_0_logloss: 0.2466  |  0:11:01s\n",
            "epoch 17 | loss: 0.28616 | val_0_logloss: 0.27911 |  0:11:39s\n",
            "epoch 18 | loss: 0.28301 | val_0_logloss: 0.23646 |  0:12:19s\n",
            "epoch 19 | loss: 0.28012 | val_0_logloss: 0.22683 |  0:12:58s\n",
            "epoch 20 | loss: 0.2782  | val_0_logloss: 0.25804 |  0:13:37s\n",
            "epoch 21 | loss: 0.2779  | val_0_logloss: 0.24152 |  0:14:15s\n",
            "epoch 22 | loss: 0.27499 | val_0_logloss: 0.25619 |  0:14:54s\n",
            "epoch 23 | loss: 0.27435 | val_0_logloss: 0.25259 |  0:15:33s\n",
            "epoch 24 | loss: 0.27052 | val_0_logloss: 0.25039 |  0:16:11s\n",
            "epoch 25 | loss: 0.26828 | val_0_logloss: 0.23871 |  0:16:49s\n",
            "epoch 26 | loss: 0.26768 | val_0_logloss: 0.22776 |  0:17:27s\n",
            "epoch 27 | loss: 0.26662 | val_0_logloss: 0.23679 |  0:18:05s\n",
            "epoch 28 | loss: 0.26401 | val_0_logloss: 0.23375 |  0:18:44s\n",
            "epoch 29 | loss: 0.2643  | val_0_logloss: 0.26103 |  0:19:22s\n",
            "\n",
            "Early stopping occurred at epoch 29 with best_epoch = 19 and best_val_0_logloss = 0.22683\n",
            "Best weights from best epoch are automatically used!\n",
            "[0.5874239109076878, 0.47256270739345235, 0.4096042653250927, 0.3721047512281729, 0.3539180503767619, 0.32614814737625436, 0.317510432945874, 0.29602047229019685, 0.29424197654591017, 0.27872952344285645, 0.28293945064956405, 0.2760411353900386, 0.2601679672715381, 0.2491597390566248, 0.2533979582170206, 0.23703601706641997, 0.24659860301506506, 0.2791050038689586, 0.23646277791268955, 0.2268288654266199, 0.2580441426707386, 0.24151707114265214, 0.2561850722034513, 0.2525943928400622, 0.25038621885797063, 0.23870551845523796, 0.22775608695686356, 0.2367853086296376, 0.23375174426923345, 0.2610257851209876]\n",
            "Device used : cuda\n",
            "epoch 0  | loss: 0.76635 | val_0_logloss: 0.70946 |  0:00:52s\n",
            "epoch 1  | loss: 0.71907 | val_0_logloss: 0.82431 |  0:01:44s\n",
            "epoch 2  | loss: 0.78012 | val_0_logloss: 0.72166 |  0:02:37s\n",
            "epoch 3  | loss: 0.73252 | val_0_logloss: 0.71707 |  0:03:30s\n",
            "epoch 4  | loss: 0.73513 | val_0_logloss: 0.72468 |  0:04:21s\n",
            "epoch 5  | loss: 0.75797 | val_0_logloss: 0.76193 |  0:05:11s\n",
            "epoch 6  | loss: 0.76505 | val_0_logloss: 0.73988 |  0:06:04s\n",
            "epoch 7  | loss: 0.74804 | val_0_logloss: 0.73916 |  0:06:55s\n",
            "epoch 8  | loss: 0.74771 | val_0_logloss: 0.73005 |  0:07:47s\n",
            "epoch 9  | loss: 0.75147 | val_0_logloss: 0.734   |  0:08:39s\n",
            "epoch 10 | loss: 0.77124 | val_0_logloss: 0.75046 |  0:09:30s\n",
            "\n",
            "Early stopping occurred at epoch 10 with best_epoch = 0 and best_val_0_logloss = 0.70946\n",
            "Best weights from best epoch are automatically used!\n",
            "[0.7094563058048204, 0.8243099597986004, 0.7216604281074696, 0.7170734862321355, 0.7246818323559173, 0.7619336153324646, 0.739876687442709, 0.7391613629918441, 0.7300451123876214, 0.7339987909361739, 0.7504570409759441]\n",
            "Device used : cuda\n",
            "epoch 0  | loss: 0.89379 | val_0_logloss: 0.8352  |  0:00:24s\n",
            "epoch 1  | loss: 0.71536 | val_0_logloss: 0.7649  |  0:00:50s\n",
            "epoch 2  | loss: 0.96936 | val_0_logloss: 1.06503 |  0:01:16s\n",
            "epoch 3  | loss: 1.18071 | val_0_logloss: 1.10041 |  0:01:42s\n",
            "epoch 4  | loss: 1.04846 | val_0_logloss: 1.00438 |  0:02:07s\n",
            "epoch 5  | loss: 0.9867  | val_0_logloss: 0.98778 |  0:02:33s\n",
            "epoch 6  | loss: 1.01423 | val_0_logloss: 0.96968 |  0:02:59s\n",
            "epoch 7  | loss: 0.96153 | val_0_logloss: 0.96316 |  0:03:26s\n",
            "epoch 8  | loss: 0.95864 | val_0_logloss: 0.98855 |  0:03:52s\n",
            "epoch 9  | loss: 0.95783 | val_0_logloss: 0.98035 |  0:04:19s\n",
            "epoch 10 | loss: 0.95524 | val_0_logloss: 0.95169 |  0:04:44s\n",
            "epoch 11 | loss: 0.96282 | val_0_logloss: 0.95018 |  0:05:09s\n",
            "\n",
            "Early stopping occurred at epoch 11 with best_epoch = 1 and best_val_0_logloss = 0.7649\n",
            "Best weights from best epoch are automatically used!\n",
            "[0.8352011456650636, 0.7649030412526501, 1.0650313689404578, 1.100409130055976, 1.00437725927186, 0.987782392911929, 0.9696799698713823, 0.9631590034638668, 0.9885516533063328, 0.9803482037838375, 0.9516875631426971, 0.9501829623094492]\n",
            "Device used : cuda\n",
            "epoch 0  | loss: 0.82277 | val_0_logloss: 18.68229|  0:00:20s\n",
            "epoch 1  | loss: 0.51782 | val_0_logloss: 11.86563|  0:00:40s\n",
            "epoch 2  | loss: 0.43867 | val_0_logloss: 6.94995 |  0:01:00s\n",
            "epoch 3  | loss: 0.38661 | val_0_logloss: 3.06015 |  0:01:20s\n",
            "epoch 4  | loss: 0.35095 | val_0_logloss: 1.18493 |  0:01:40s\n",
            "epoch 5  | loss: 0.3208  | val_0_logloss: 0.6526  |  0:02:00s\n",
            "epoch 6  | loss: 0.29957 | val_0_logloss: 0.3499  |  0:02:20s\n",
            "epoch 7  | loss: 0.28417 | val_0_logloss: 0.29592 |  0:02:41s\n",
            "epoch 8  | loss: 0.26759 | val_0_logloss: 0.25    |  0:03:02s\n",
            "epoch 9  | loss: 0.25299 | val_0_logloss: 0.22862 |  0:03:22s\n",
            "epoch 10 | loss: 0.24685 | val_0_logloss: 0.21417 |  0:03:43s\n",
            "epoch 11 | loss: 0.23666 | val_0_logloss: 0.20798 |  0:04:04s\n",
            "epoch 12 | loss: 0.22751 | val_0_logloss: 0.19564 |  0:04:24s\n",
            "epoch 13 | loss: 0.22368 | val_0_logloss: 0.19243 |  0:04:44s\n",
            "epoch 14 | loss: 0.21474 | val_0_logloss: 0.18779 |  0:05:04s\n",
            "epoch 15 | loss: 0.21382 | val_0_logloss: 0.19083 |  0:05:25s\n",
            "epoch 16 | loss: 0.21193 | val_0_logloss: 0.17894 |  0:05:45s\n",
            "epoch 17 | loss: 0.20466 | val_0_logloss: 0.17769 |  0:06:06s\n",
            "epoch 18 | loss: 0.19917 | val_0_logloss: 0.17556 |  0:06:26s\n",
            "epoch 19 | loss: 0.19939 | val_0_logloss: 0.1718  |  0:06:47s\n",
            "epoch 20 | loss: 0.19406 | val_0_logloss: 0.16451 |  0:07:07s\n",
            "epoch 21 | loss: 0.19055 | val_0_logloss: 0.17032 |  0:07:28s\n",
            "epoch 22 | loss: 0.19079 | val_0_logloss: 0.16218 |  0:07:49s\n",
            "epoch 23 | loss: 0.18613 | val_0_logloss: 0.21007 |  0:08:10s\n",
            "epoch 24 | loss: 0.18141 | val_0_logloss: 0.16033 |  0:08:30s\n",
            "epoch 25 | loss: 0.18124 | val_0_logloss: 0.16746 |  0:08:51s\n",
            "epoch 26 | loss: 0.17724 | val_0_logloss: 0.16124 |  0:09:11s\n",
            "epoch 27 | loss: 0.17626 | val_0_logloss: 0.15211 |  0:09:32s\n",
            "epoch 28 | loss: 0.17282 | val_0_logloss: 0.14741 |  0:09:53s\n",
            "epoch 29 | loss: 0.17054 | val_0_logloss: 0.1539  |  0:10:13s\n",
            "Stop training because you reached max_epochs = 30 with best_epoch = 28 and best_val_0_logloss = 0.14741\n",
            "Best weights from best epoch are automatically used!\n",
            "[18.682292709762063, 11.865626444324157, 6.949949004222138, 3.0601466548004437, 1.1849270972437809, 0.6526037727306904, 0.34989532985496874, 0.295916561031099, 0.24999622978238367, 0.22861626369027957, 0.2141685976803593, 0.2079760005623654, 0.19563985433742964, 0.19243066764524688, 0.1877913510307938, 0.19083135390912298, 0.1789443632127497, 0.17769367723057522, 0.1755564293012427, 0.1718005540775947, 0.16451016089250403, 0.17031575879021343, 0.16218191392698808, 0.2100709861363849, 0.16032705980579803, 0.16746384488718716, 0.16123520962841104, 0.1521101974762009, 0.14741102410284024, 0.15390318371878067]\n",
            "Device used : cuda\n",
            "epoch 0  | loss: 0.65314 | val_0_logloss: 0.51547 |  0:00:11s\n",
            "epoch 1  | loss: 0.48093 | val_0_logloss: 0.42112 |  0:00:23s\n",
            "epoch 2  | loss: 0.42599 | val_0_logloss: 0.37519 |  0:00:35s\n",
            "epoch 3  | loss: 0.38946 | val_0_logloss: 0.33639 |  0:00:47s\n",
            "epoch 4  | loss: 0.36107 | val_0_logloss: 0.31353 |  0:00:59s\n",
            "epoch 5  | loss: 0.34107 | val_0_logloss: 0.3067  |  0:01:10s\n",
            "epoch 6  | loss: 0.32632 | val_0_logloss: 0.28149 |  0:01:22s\n",
            "epoch 7  | loss: 0.3124  | val_0_logloss: 0.27098 |  0:01:35s\n",
            "epoch 8  | loss: 0.30281 | val_0_logloss: 0.26498 |  0:01:46s\n",
            "epoch 9  | loss: 0.29534 | val_0_logloss: 0.25493 |  0:01:58s\n",
            "epoch 10 | loss: 0.28937 | val_0_logloss: 0.24541 |  0:02:10s\n",
            "epoch 11 | loss: 0.28202 | val_0_logloss: 0.24108 |  0:02:22s\n",
            "epoch 12 | loss: 0.27684 | val_0_logloss: 0.23768 |  0:02:34s\n",
            "epoch 13 | loss: 0.2726  | val_0_logloss: 0.23756 |  0:02:46s\n",
            "epoch 14 | loss: 0.26868 | val_0_logloss: 0.22291 |  0:02:59s\n",
            "epoch 15 | loss: 0.26475 | val_0_logloss: 0.22296 |  0:03:11s\n",
            "epoch 16 | loss: 0.2621  | val_0_logloss: 0.2236  |  0:03:23s\n",
            "epoch 17 | loss: 0.25797 | val_0_logloss: 0.21842 |  0:03:35s\n",
            "epoch 18 | loss: 0.25551 | val_0_logloss: 0.21525 |  0:03:47s\n",
            "epoch 19 | loss: 0.25219 | val_0_logloss: 0.2075  |  0:03:58s\n",
            "epoch 20 | loss: 0.25156 | val_0_logloss: 0.20857 |  0:04:10s\n",
            "epoch 21 | loss: 0.24673 | val_0_logloss: 0.20881 |  0:04:22s\n",
            "epoch 22 | loss: 0.24642 | val_0_logloss: 0.21526 |  0:04:34s\n",
            "epoch 23 | loss: 0.2454  | val_0_logloss: 0.20086 |  0:04:46s\n",
            "epoch 24 | loss: 0.24194 | val_0_logloss: 0.20294 |  0:04:57s\n",
            "epoch 25 | loss: 0.2419  | val_0_logloss: 0.20015 |  0:05:09s\n",
            "epoch 26 | loss: 0.24    | val_0_logloss: 0.19712 |  0:05:21s\n",
            "epoch 27 | loss: 0.23843 | val_0_logloss: 0.20356 |  0:05:33s\n",
            "epoch 28 | loss: 0.23633 | val_0_logloss: 0.19767 |  0:05:45s\n",
            "epoch 29 | loss: 0.23515 | val_0_logloss: 0.19635 |  0:05:56s\n",
            "Stop training because you reached max_epochs = 30 with best_epoch = 29 and best_val_0_logloss = 0.19635\n",
            "Best weights from best epoch are automatically used!\n",
            "[0.5154731654261381, 0.421120486645366, 0.37519456928553147, 0.3363885938291947, 0.31353404320832234, 0.30669587532771536, 0.2814921846356766, 0.2709776524564639, 0.26497804018208443, 0.2549335357578803, 0.24540636970520943, 0.24107631365138196, 0.2376826963342052, 0.23756281665711776, 0.22290523762648834, 0.22296061931529845, 0.22360369491494853, 0.21842068225512135, 0.21524988553964688, 0.20750131689307205, 0.20857131772112902, 0.20881340368961496, 0.2152579825601084, 0.200862861299704, 0.20293840264242366, 0.20015225103723025, 0.1971158544583779, 0.20355540002633066, 0.19766697380962645, 0.19635321954037427]\n",
            "Device used : cuda\n",
            "epoch 0  | loss: 1.99163 | val_0_logloss: 2.9864  |  0:01:00s\n",
            "epoch 1  | loss: 2.52647 | val_0_logloss: 1.95258 |  0:02:01s\n",
            "epoch 2  | loss: 2.14776 | val_0_logloss: 1.94551 |  0:02:59s\n",
            "epoch 3  | loss: 1.98938 | val_0_logloss: 1.94607 |  0:03:59s\n",
            "epoch 4  | loss: 1.9456  | val_0_logloss: 1.94726 |  0:04:56s\n",
            "epoch 5  | loss: 1.96987 | val_0_logloss: 1.94551 |  0:05:54s\n",
            "epoch 6  | loss: 1.94556 | val_0_logloss: 1.94551 |  0:06:53s\n",
            "epoch 7  | loss: 1.94561 | val_0_logloss: 1.94551 |  0:07:52s\n",
            "epoch 8  | loss: 1.94555 | val_0_logloss: 1.94551 |  0:08:50s\n",
            "epoch 9  | loss: 1.94555 | val_0_logloss: 1.94551 |  0:09:47s\n",
            "epoch 10 | loss: 1.94555 | val_0_logloss: 1.94551 |  0:10:46s\n",
            "epoch 11 | loss: 1.94555 | val_0_logloss: 1.94551 |  0:11:47s\n",
            "epoch 12 | loss: 18.05265| val_0_logloss: 33.97285|  0:12:47s\n",
            "\n",
            "Early stopping occurred at epoch 12 with best_epoch = 2 and best_val_0_logloss = 1.94551\n",
            "Best weights from best epoch are automatically used!\n",
            "[2.9864040048911282, 1.9525820655980257, 1.9455081935827647, 1.9460691630545874, 1.9472591172552989, 1.9455081939438743, 1.9455081941634127, 1.9455081939438743, 1.9455081939438743, 1.9455081939438743, 1.9455081939438743, 1.9455081941039116, 33.97284956115123]\n",
            "Device used : cuda\n",
            "epoch 0  | loss: 0.6321  | val_0_logloss: 0.55023 |  0:00:23s\n",
            "epoch 1  | loss: 0.52049 | val_0_logloss: 0.46857 |  0:00:46s\n",
            "epoch 2  | loss: 0.46248 | val_0_logloss: 0.41444 |  0:01:10s\n",
            "epoch 3  | loss: 0.42606 | val_0_logloss: 0.37589 |  0:01:34s\n",
            "epoch 4  | loss: 0.39943 | val_0_logloss: 0.35853 |  0:01:57s\n",
            "epoch 5  | loss: 0.3803  | val_0_logloss: 0.33311 |  0:02:19s\n",
            "epoch 6  | loss: 0.36534 | val_0_logloss: 0.31677 |  0:02:41s\n",
            "epoch 7  | loss: 0.35428 | val_0_logloss: 0.30801 |  0:03:04s\n",
            "epoch 8  | loss: 0.3431  | val_0_logloss: 0.297   |  0:03:28s\n",
            "epoch 9  | loss: 0.33533 | val_0_logloss: 0.29537 |  0:03:51s\n",
            "epoch 10 | loss: 0.32838 | val_0_logloss: 0.2802  |  0:04:14s\n",
            "epoch 11 | loss: 0.32505 | val_0_logloss: 0.28341 |  0:04:38s\n",
            "epoch 12 | loss: 0.31779 | val_0_logloss: 0.27321 |  0:05:01s\n",
            "epoch 13 | loss: 0.31288 | val_0_logloss: 0.26926 |  0:05:25s\n",
            "epoch 14 | loss: 0.30962 | val_0_logloss: 0.26486 |  0:05:48s\n",
            "epoch 15 | loss: 0.30789 | val_0_logloss: 0.26088 |  0:06:11s\n",
            "epoch 16 | loss: 0.30496 | val_0_logloss: 0.25388 |  0:06:35s\n",
            "epoch 17 | loss: 0.29979 | val_0_logloss: 0.26097 |  0:06:58s\n",
            "epoch 18 | loss: 0.29976 | val_0_logloss: 0.26396 |  0:07:21s\n",
            "epoch 19 | loss: 0.29895 | val_0_logloss: 0.24926 |  0:07:44s\n",
            "epoch 20 | loss: 0.29699 | val_0_logloss: 0.2405  |  0:08:07s\n",
            "epoch 21 | loss: 0.29168 | val_0_logloss: 0.24426 |  0:08:31s\n",
            " 90%|█████████ | 9/10 [1:32:11<09:55, 595.43s/it, best loss: 0.14741102410284024]"
          ]
        }
      ]
    },
    {
      "cell_type": "code",
      "source": [
        "best"
      ],
      "metadata": {
        "id": "Io68SETkvGYX"
      },
      "execution_count": null,
      "outputs": []
    },
    {
      "cell_type": "code",
      "source": [
        "model=TabNetClassifier(n_a=int(best['feature_dim']), n_d=int(best['feature_dim']), n_steps=int(best['n_steps']), momentum=best['momentum'], gamma=best['relaxation_factor'], optimizer_params=dict(lr=best['learning_rate']), device_name='cuda')\n",
        "model.fit(x_train, y_train, eval_set=[(x_valid, y_valid)], batch_size=2048,max_epochs=100)"
      ],
      "metadata": {
        "id": "UXNvR6UYvHqm",
        "colab": {
          "base_uri": "https://localhost:8080/"
        },
        "outputId": "6fa8f216-9268-4aa6-9772-49a3ce87f9a9"
      },
      "execution_count": null,
      "outputs": [
        {
          "output_type": "stream",
          "name": "stdout",
          "text": [
            "Device used : cuda\n",
            "epoch 0  | loss: 0.6233  | val_0_accuracy: 0.38111 |  0:00:26s\n",
            "epoch 1  | loss: 0.44092 | val_0_accuracy: 0.83131 |  0:00:53s\n",
            "epoch 2  | loss: 0.37779 | val_0_accuracy: 0.86764 |  0:01:19s\n",
            "epoch 3  | loss: 0.34094 | val_0_accuracy: 0.87312 |  0:01:46s\n",
            "epoch 4  | loss: 0.32844 | val_0_accuracy: 0.87978 |  0:02:14s\n",
            "epoch 5  | loss: 0.30062 | val_0_accuracy: 0.89463 |  0:02:41s\n",
            "epoch 6  | loss: 0.28226 | val_0_accuracy: 0.89955 |  0:03:08s\n",
            "epoch 7  | loss: 0.27035 | val_0_accuracy: 0.90372 |  0:03:34s\n",
            "epoch 8  | loss: 0.26004 | val_0_accuracy: 0.90883 |  0:04:02s\n",
            "epoch 9  | loss: 0.25148 | val_0_accuracy: 0.91282 |  0:04:29s\n",
            "epoch 10 | loss: 0.24268 | val_0_accuracy: 0.91472 |  0:04:55s\n"
          ]
        }
      ]
    },
    {
      "cell_type": "code",
      "source": [
        "criterion = nn.CrossEntropyLoss()\n",
        "loss1 = criterion(torch.from_numpy(model.predict_proba(x_test)),torch.from_numpy(y_test))\n",
        "print(loss1)"
      ],
      "metadata": {
        "id": "2iJvtp-6vKbW"
      },
      "execution_count": null,
      "outputs": []
    },
    {
      "cell_type": "code",
      "source": [
        "from sklearn.metrics import roc_auc_score\n",
        "roc_auc_score(y_test, model.predict(x_test), multi_class='ovr')"
      ],
      "metadata": {
        "id": "C9HvxYDevMqk"
      },
      "execution_count": null,
      "outputs": []
    },
    {
      "cell_type": "code",
      "source": [
        "a1=hyperopt.pyll.stochastic.sample(reg_params)\n",
        "print(a1)\n",
        "tb_ll_cv(a1)\n",
        "#torch.from_numpy(a1['gamma']).dtype"
      ],
      "metadata": {
        "id": "vUU6eKo6dNnP"
      },
      "execution_count": null,
      "outputs": []
    }
  ]
}