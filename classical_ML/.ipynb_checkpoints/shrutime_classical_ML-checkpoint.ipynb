{
 "cells": [
  {
   "cell_type": "code",
   "execution_count": 26,
   "metadata": {},
   "outputs": [],
   "source": [
    "from sklearn.preprocessing import LabelEncoder\n",
    "from sklearn.metrics import accuracy_score\n",
    "from sklearn.model_selection import train_test_split\n",
    "import pandas as pd\n",
    "import numpy as np\n",
    "from fast_ml.model_development import train_valid_test_split\n",
    "np.random.seed(0)\n",
    "import datetime \n",
    "from catboost import CatBoostClassifier\n",
    "import numpy as np\n",
    "import pandas as pd\n",
    "from sklearn.metrics import accuracy_score\n",
    "from sklearn.svm import LinearSVC\n",
    "from sklearn import preprocessing\n",
    "import os\n",
    "from catboost import CatBoostClassifier\n",
    "import wget\n",
    "from pathlib import Path\n",
    "import shutil\n",
    "import gzip\n",
    "\n",
    "from matplotlib import pyplot as plt\n",
    "%matplotlib inline"
   ]
  },
  {
   "cell_type": "code",
   "execution_count": 27,
   "metadata": {},
   "outputs": [],
   "source": [
    "def convert_to_one_hot(y):\n",
    "    seen = False\n",
    "    for i in range(len(y)):\n",
    "        l = [0 for i in range(7)]\n",
    "        l[y[i] - 1] = 1\n",
    "        if not seen:\n",
    "            y_o = np.array(l.copy())\n",
    "            seen = True\n",
    "        else:\n",
    "            y_o = np.vstack([y_o, l.copy()])\n",
    "    return y_o\n",
    "def preprocess_data():\n",
    "\n",
    "    data = pd.read_csv('data/Churn_Modelling.csv')\n",
    "    data = data.drop([\"RowNumber\", \"CustomerId\", \"Surname\"], axis = 1)\n",
    "\n",
    "\n",
    "    def convert_country(y):\n",
    "        seen = False\n",
    "        for i in range(len(y)):\n",
    "            if not seen:\n",
    "                y_o = np.array([m1[y[i]]])\n",
    "                seen = True\n",
    "            else:\n",
    "                y_o = np.vstack([y_o, [m1[y[i]]]])\n",
    "        return y_o\n",
    "\n",
    "    def convert_gender(y):\n",
    "        seen = False\n",
    "        for i in range(len(y)):\n",
    "            if not seen:\n",
    "                y_o = np.array([m2[y[i]]])\n",
    "                seen = True\n",
    "            else:\n",
    "                y_o = np.vstack([y_o, [m2[y[i]]]])\n",
    "        return y_o\n",
    "\n",
    "    m1 = {\"France\" : 0, \"Spain\" : 1, \"Germany\" : 2}\n",
    "    m2 = {\"Male\" : 0, \"Female\" : 1}\n",
    "\n",
    "    y = data[\"Geography\"]\n",
    "    y = y.to_numpy()\n",
    "    y = convert_country(y)\n",
    "    data = data.drop(\"Geography\", axis = 1)\n",
    "    data[\"Geography\"] = y\n",
    "\n",
    "    y = data[\"Gender\"]\n",
    "    y = y.to_numpy()\n",
    "    y = convert_gender(y)\n",
    "    data = data.drop(\"Gender\", axis = 1)\n",
    "    data[\"Gender\"] = y\n",
    "    \n",
    "    train, test = train_test_split(data, test_size=0.2,stratify=data['Exited'])\n",
    "    \n",
    "    y_train = train[\"Exited\"].values\n",
    "    y_test = test[\"Exited\"].values\n",
    "    x_train = train.drop(columns=[\"Exited\"]).values\n",
    "    x_test = test.drop(columns=[\"Exited\"]).values\n",
    "    \n",
    "    return  x_train,y_train.squeeze(),x_test,y_test.squeeze()\n"
   ]
  },
  {
   "cell_type": "code",
   "execution_count": 28,
   "metadata": {},
   "outputs": [],
   "source": [
    "X_train,y_train,X_test,y_test = preprocess_data()"
   ]
  },
  {
   "cell_type": "markdown",
   "metadata": {},
   "source": [
    "# Training"
   ]
  },
  {
   "cell_type": "markdown",
   "metadata": {},
   "source": [
    "# XGB"
   ]
  },
  {
   "cell_type": "code",
   "execution_count": 41,
   "metadata": {},
   "outputs": [],
   "source": [
    "n_estimators = 1000 if not os.getenv(\"CI\", False) else 20"
   ]
  },
  {
   "cell_type": "code",
   "execution_count": 42,
   "metadata": {},
   "outputs": [],
   "source": [
    "# A parameter grid for XGBoost\n",
    "params = {\n",
    "        'min_child_weight': [1, 5, 10],\n",
    "        'gamma': [0.5, 1, 1.5, 2, 5],\n",
    "        'subsample': [0.6, 0.8, 1.0],\n",
    "        'colsample_bytree': [0.6, 0.8, 1.0],\n",
    "        'max_depth': [3, 4, 5]\n",
    "        }"
   ]
  },
  {
   "cell_type": "code",
   "execution_count": null,
   "metadata": {},
   "outputs": [],
   "source": [
    "def tuner(trial):    \n",
    "    params = {        \n",
    "        \"n_estimators\": trial.suggest_int(\"n_estimators\", 7500, 12000, step=100),\n",
    "        \"max_depth\":trial.suggest_int(\"max_depth\", 4, 10),\n",
    "        \"min_child_weight\": trial.suggest_int(\"min_child_weight\", 7, 8),\n",
    "        \"learning_rate\": trial.suggest_float(\"learning_rate\", 1e-4, 1e-1, log=True), \n",
    "        \"subsample\": trial.suggest_float(\"subsample\", 0.7, 1.0),\n",
    "        \"colsample_bytree\": trial.suggest_float(\"colsample_bytree\", 0.1, 1.0),\n",
    "        \"reg_alpha\": trial.suggest_float(\"reg_alpha\", 1e-2, 10.),\n",
    "        \"reg_lambda\": trial.suggest_float(\"reg_lambda\", 1e-2, 10.),\n",
    "        \"gamma\": trial.suggest_float(\"gamma\", 0.7, 1.0, step=0.1),\n",
    "    }    \n",
    "    \n",
    "    model = XGBClassifier(\n",
    "        **params,\n",
    "        n_jobs=-1, \n",
    "        objective=\"reg:squarederror\",\n",
    "        tree_method='gpu_hist', \n",
    "        gpu_id=0\n",
    "    )\n",
    "    model.fit(X_train, y_train,\n",
    "            eval_set=[(X_test, y_test)],\n",
    "            early_stopping_rounds=100,\n",
    "            verbose=10)\n",
    "\n",
    "    y_hat = model.predict(X_test)\n",
    "    \n",
    "    return accuracy_score(y_pred=np.argmax(y_hat, axis=1), y_true=y_test)\n",
    "\n",
    "start_time=timer(None)\n",
    "study = optuna.create_study()\n",
    "study.optimize(tuner, n_trials=100)\n",
    "timer(start_time)"
   ]
  },
  {
   "cell_type": "code",
   "execution_count": 43,
   "metadata": {
    "scrolled": true
   },
   "outputs": [
    {
     "name": "stdout",
     "output_type": "stream",
     "text": [
      "[0]\tvalidation_0-mlogloss:0.66914\n",
      "[10]\tvalidation_0-mlogloss:0.51795\n",
      "[20]\tvalidation_0-mlogloss:0.44521\n",
      "[30]\tvalidation_0-mlogloss:0.40846\n",
      "[40]\tvalidation_0-mlogloss:0.38473\n",
      "[50]\tvalidation_0-mlogloss:0.37171\n",
      "[60]\tvalidation_0-mlogloss:0.36284\n",
      "[70]\tvalidation_0-mlogloss:0.35748\n",
      "[80]\tvalidation_0-mlogloss:0.35310\n",
      "[90]\tvalidation_0-mlogloss:0.34928\n",
      "[100]\tvalidation_0-mlogloss:0.34743\n",
      "[110]\tvalidation_0-mlogloss:0.34613\n",
      "[120]\tvalidation_0-mlogloss:0.34472\n",
      "[130]\tvalidation_0-mlogloss:0.34347\n",
      "[140]\tvalidation_0-mlogloss:0.34238\n",
      "[150]\tvalidation_0-mlogloss:0.34194\n",
      "[160]\tvalidation_0-mlogloss:0.34162\n",
      "[170]\tvalidation_0-mlogloss:0.34099\n",
      "[180]\tvalidation_0-mlogloss:0.34076\n",
      "[190]\tvalidation_0-mlogloss:0.34042\n",
      "[200]\tvalidation_0-mlogloss:0.34002\n",
      "[210]\tvalidation_0-mlogloss:0.33997\n",
      "[220]\tvalidation_0-mlogloss:0.33986\n",
      "[230]\tvalidation_0-mlogloss:0.33960\n",
      "[240]\tvalidation_0-mlogloss:0.33953\n",
      "[250]\tvalidation_0-mlogloss:0.33920\n",
      "[260]\tvalidation_0-mlogloss:0.33925\n",
      "[270]\tvalidation_0-mlogloss:0.33929\n",
      "[280]\tvalidation_0-mlogloss:0.33913\n",
      "[290]\tvalidation_0-mlogloss:0.33870\n",
      "[300]\tvalidation_0-mlogloss:0.33860\n",
      "[310]\tvalidation_0-mlogloss:0.33870\n",
      "[320]\tvalidation_0-mlogloss:0.33882\n",
      "[330]\tvalidation_0-mlogloss:0.33880\n",
      "[340]\tvalidation_0-mlogloss:0.33839\n",
      "[350]\tvalidation_0-mlogloss:0.33846\n",
      "[360]\tvalidation_0-mlogloss:0.33853\n",
      "[370]\tvalidation_0-mlogloss:0.33855\n",
      "[380]\tvalidation_0-mlogloss:0.33854\n",
      "[382]\tvalidation_0-mlogloss:0.33854\n"
     ]
    },
    {
     "data": {
      "text/plain": [
       "XGBClassifier(base_score=0.5, booster='gbtree', colsample_bylevel=1,\n",
       "              colsample_bynode=1, colsample_bytree=0.6,\n",
       "              enable_categorical=False, gamma=1.5, gpu_id=0,\n",
       "              importance_type=None, interaction_constraints='',\n",
       "              learning_rate=0.05, max_delta_step=0, max_depth=3,\n",
       "              min_child_weight=1, missing=nan, monotone_constraints='()',\n",
       "              n_estimators=1000, n_jobs=-1, nthread=20, num_class=2,\n",
       "              num_parallel_tree=1, objective='multi:softmax', predictor='auto',\n",
       "              random_state=0, reg_alpha=0, reg_lambda=1, scale_pos_weight=1,\n",
       "              seed=0, silent=None, subsample=0.7, ...)"
      ]
     },
     "execution_count": 43,
     "metadata": {},
     "output_type": "execute_result"
    }
   ],
   "source": [
    "from xgboost import XGBClassifier\n",
    "\n",
    "clf_xgb = XGBClassifier(max_depth=3,\n",
    "    tree_method='gpu_hist',\n",
    "    gpu_id=0,\n",
    "    num_class=2,\n",
    "    learning_rate=0.05,\n",
    "    n_estimators=n_estimators,\n",
    "    verbosity=0,\n",
    "    silent=None,\n",
    "    objective=\"multi:softmax\",\n",
    "    booster='gbtree',\n",
    "    n_jobs=-1,\n",
    "    nthread=None,\n",
    "    gamma=1.5,\n",
    "    min_child_weight=1,\n",
    "    max_delta_step=0,\n",
    "    subsample=0.7,\n",
    "    colsample_bytree=0.6,\n",
    "    colsample_bylevel=1,\n",
    "    colsample_bynode=1,\n",
    "    reg_alpha=0,\n",
    "    reg_lambda=1,\n",
    "    scale_pos_weight=1,\n",
    "    base_score=0.5,\n",
    "    random_state=0,\n",
    "    seed=None,)\n",
    "\n",
    "clf_xgb.fit(X_train, y_train,\n",
    "            eval_set=[(X_test, y_test)],\n",
    "            early_stopping_rounds=40,\n",
    "            verbose=10)"
   ]
  },
  {
   "cell_type": "code",
   "execution_count": 44,
   "metadata": {},
   "outputs": [
    {
     "name": "stdout",
     "output_type": "stream",
     "text": [
      "0.86\n"
     ]
    }
   ],
   "source": [
    "preds_test = np.array(clf_xgb.predict_proba(X_test))\n",
    "test_acc = accuracy_score(y_pred=np.argmax(preds_test, axis=1), y_true=y_test)\n",
    "print(test_acc)"
   ]
  },
  {
   "cell_type": "code",
   "execution_count": 45,
   "metadata": {},
   "outputs": [
    {
     "data": {
      "text/plain": [
       "(8000, 10)"
      ]
     },
     "execution_count": 45,
     "metadata": {},
     "output_type": "execute_result"
    }
   ],
   "source": [
    "X_train.shape"
   ]
  },
  {
   "cell_type": "code",
   "execution_count": 36,
   "metadata": {},
   "outputs": [
    {
     "name": "stdout",
     "output_type": "stream",
     "text": [
      "SVC time execution(kernel='rbf' and C=1 ): 0:00:00.470474\n"
     ]
    }
   ],
   "source": [
    "start_time = datetime.datetime.now()\n",
    "X_train_scale = preprocessing.scale(X_train)\n",
    "X_valid_scale = preprocessing.scale(X_test)\n",
    "clf = LinearSVC(random_state=0, tol=1e-5)\n",
    "clf.fit(X_train_scale, y_train)\n",
    "print(\"SVC time execution(kernel='rbf' and C=1 ):\",\n",
    "     datetime.datetime.now() - start_time)\n"
   ]
  },
  {
   "cell_type": "code",
   "execution_count": 19,
   "metadata": {},
   "outputs": [
    {
     "name": "stdout",
     "output_type": "stream",
     "text": [
      "Train accuracy = 0.807625, Test accuracy = 0.8045\n"
     ]
    }
   ],
   "source": [
    "\n",
    "prediction = clf.predict(X_train_scale)\n",
    "acc_score_train = accuracy_score(y_train, prediction)\n",
    "prediction = clf.predict(X_valid_scale)\n",
    "acc_score_valid = accuracy_score(y_test, prediction)\n",
    "print(\"Train accuracy = {0}, Test accuracy = {1}\".format(acc_score_train, acc_score_valid))"
   ]
  },
  {
   "cell_type": "code",
   "execution_count": 24,
   "metadata": {},
   "outputs": [
    {
     "name": "stdout",
     "output_type": "stream",
     "text": [
      "0:\tlearn: 0.8606250\ttest: 0.8600000\tbest: 0.8600000 (0)\ttotal: 58.3ms\tremaining: 4m 51s\n",
      "1000:\tlearn: 0.8793750\ttest: 0.8700000\tbest: 0.8705000 (688)\ttotal: 1m 7s\tremaining: 4m 29s\n",
      "bestTest = 0.8705\n",
      "bestIteration = 688\n",
      "Shrink model to first 689 iterations.\n"
     ]
    },
    {
     "data": {
      "text/plain": [
       "<catboost.core.CatBoostClassifier at 0x7f4fad7bea30>"
      ]
     },
     "execution_count": 24,
     "metadata": {},
     "output_type": "execute_result"
    }
   ],
   "source": [
    "cat_params = {\n",
    "    'iterations': 5000,\n",
    "    'learning_rate': 0.01,\n",
    "    'od_wait': 1000,\n",
    "    'depth': 10,\n",
    "    'task_type' : 'GPU',\n",
    "    'l2_leaf_reg': 4,\n",
    "    'eval_metric': 'Accuracy',\n",
    "    'devices' : '0',\n",
    "    'verbose' : 1000\n",
    "}\n",
    "cat = CatBoostClassifier(**cat_params)\n",
    "cat.fit(X_train, y_train, eval_set=(X_test, y_test))"
   ]
  },
  {
   "cell_type": "code",
   "execution_count": 25,
   "metadata": {},
   "outputs": [],
   "source": [
    "preds_test = np.array(cat.predict_proba(X_test))\n",
    "pd.DataFrame(preds_test).to_csv('cat_boost_preds_shrutime.csv')"
   ]
  },
  {
   "cell_type": "code",
   "execution_count": null,
   "metadata": {},
   "outputs": [],
   "source": []
  }
 ],
 "metadata": {
  "kernelspec": {
   "display_name": "Python 3",
   "language": "python",
   "name": "python3"
  },
  "language_info": {
   "codemirror_mode": {
    "name": "ipython",
    "version": 3
   },
   "file_extension": ".py",
   "mimetype": "text/x-python",
   "name": "python",
   "nbconvert_exporter": "python",
   "pygments_lexer": "ipython3",
   "version": "3.9.5"
  },
  "toc": {
   "base_numbering": 1,
   "nav_menu": {},
   "number_sections": true,
   "sideBar": true,
   "skip_h1_title": false,
   "title_cell": "Table of Contents",
   "title_sidebar": "Contents",
   "toc_cell": false,
   "toc_position": {},
   "toc_section_display": true,
   "toc_window_display": false
  }
 },
 "nbformat": 4,
 "nbformat_minor": 2
}
