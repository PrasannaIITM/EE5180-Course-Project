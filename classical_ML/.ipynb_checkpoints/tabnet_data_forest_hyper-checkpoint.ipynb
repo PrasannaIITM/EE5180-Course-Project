{
 "cells": [
  {
   "cell_type": "code",
   "execution_count": 2,
   "metadata": {
    "id": "60-_obGOXJMD"
   },
   "outputs": [],
   "source": [
    "import gzip\n",
    "import os\n",
    "import shutil\n",
    "import pandas as pd\n",
    "from sklearn.model_selection import train_test_split\n",
    "import wget\n",
    "import numpy as np"
   ]
  },
  {
   "cell_type": "code",
   "execution_count": 3,
   "metadata": {
    "colab": {
     "base_uri": "https://localhost:8080/"
    },
    "id": "iC8v45OqWWGT",
    "outputId": "187937a7-53ac-4706-e29b-775e1cd7259f"
   },
   "outputs": [
    {
     "name": "stdout",
     "output_type": "stream",
     "text": [
      "catboost_info\t\t\t   tabnet_data_forest_hyper.ipynb\r\n",
      "cat_boost_preds.csv\t\t   test_shrutime.csv\r\n",
      "data\t\t\t\t   train_shrutime.csv\r\n",
      "forest_example_classical_ML.ipynb  Untitled.ipynb\r\n",
      "shrutime_classical_ML.ipynb\t   xgboost_preds.csv\r\n"
     ]
    }
   ],
   "source": [
    "!ls"
   ]
  },
  {
   "cell_type": "code",
   "execution_count": 4,
   "metadata": {
    "id": "GKAb9fN2Wjy_"
   },
   "outputs": [],
   "source": [
    "df=pd.read_csv('data/train_forest_cover.csv')"
   ]
  },
  {
   "cell_type": "code",
   "execution_count": 5,
   "metadata": {
    "colab": {
     "base_uri": "https://localhost:8080/",
     "height": 299
    },
    "id": "KjSlHFDktk7e",
    "outputId": "2c522556-271b-4667-fe07-0fbed987bf49"
   },
   "outputs": [
    {
     "data": {
      "text/html": [
       "<div>\n",
       "<style scoped>\n",
       "    .dataframe tbody tr th:only-of-type {\n",
       "        vertical-align: middle;\n",
       "    }\n",
       "\n",
       "    .dataframe tbody tr th {\n",
       "        vertical-align: top;\n",
       "    }\n",
       "\n",
       "    .dataframe thead th {\n",
       "        text-align: right;\n",
       "    }\n",
       "</style>\n",
       "<table border=\"1\" class=\"dataframe\">\n",
       "  <thead>\n",
       "    <tr style=\"text-align: right;\">\n",
       "      <th></th>\n",
       "      <th>Elevation</th>\n",
       "      <th>Aspect</th>\n",
       "      <th>Slope</th>\n",
       "      <th>Horizontal_Distance_To_Hydrology</th>\n",
       "      <th>Vertical_Distance_To_Hydrology</th>\n",
       "      <th>Horizontal_Distance_To_Roadways</th>\n",
       "      <th>Hillshade_9am</th>\n",
       "      <th>Hillshade_Noon</th>\n",
       "      <th>Hillshade_3pm</th>\n",
       "      <th>Horizontal_Distance_To_Fire_Points</th>\n",
       "      <th>...</th>\n",
       "      <th>Soil_Type32</th>\n",
       "      <th>Soil_Type33</th>\n",
       "      <th>Soil_Type34</th>\n",
       "      <th>Soil_Type35</th>\n",
       "      <th>Soil_Type36</th>\n",
       "      <th>Soil_Type37</th>\n",
       "      <th>Soil_Type38</th>\n",
       "      <th>Soil_Type39</th>\n",
       "      <th>Soil_Type40</th>\n",
       "      <th>Covertype</th>\n",
       "    </tr>\n",
       "  </thead>\n",
       "  <tbody>\n",
       "    <tr>\n",
       "      <th>0</th>\n",
       "      <td>2631</td>\n",
       "      <td>104</td>\n",
       "      <td>4</td>\n",
       "      <td>0</td>\n",
       "      <td>0</td>\n",
       "      <td>806</td>\n",
       "      <td>226</td>\n",
       "      <td>234</td>\n",
       "      <td>143</td>\n",
       "      <td>1761</td>\n",
       "      <td>...</td>\n",
       "      <td>0</td>\n",
       "      <td>0</td>\n",
       "      <td>0</td>\n",
       "      <td>0</td>\n",
       "      <td>0</td>\n",
       "      <td>0</td>\n",
       "      <td>0</td>\n",
       "      <td>0</td>\n",
       "      <td>0</td>\n",
       "      <td>2</td>\n",
       "    </tr>\n",
       "    <tr>\n",
       "      <th>1</th>\n",
       "      <td>3287</td>\n",
       "      <td>107</td>\n",
       "      <td>25</td>\n",
       "      <td>459</td>\n",
       "      <td>130</td>\n",
       "      <td>1144</td>\n",
       "      <td>253</td>\n",
       "      <td>201</td>\n",
       "      <td>61</td>\n",
       "      <td>1099</td>\n",
       "      <td>...</td>\n",
       "      <td>0</td>\n",
       "      <td>0</td>\n",
       "      <td>0</td>\n",
       "      <td>0</td>\n",
       "      <td>0</td>\n",
       "      <td>0</td>\n",
       "      <td>0</td>\n",
       "      <td>0</td>\n",
       "      <td>1</td>\n",
       "      <td>7</td>\n",
       "    </tr>\n",
       "    <tr>\n",
       "      <th>2</th>\n",
       "      <td>2130</td>\n",
       "      <td>144</td>\n",
       "      <td>12</td>\n",
       "      <td>30</td>\n",
       "      <td>2</td>\n",
       "      <td>1167</td>\n",
       "      <td>237</td>\n",
       "      <td>238</td>\n",
       "      <td>129</td>\n",
       "      <td>1423</td>\n",
       "      <td>...</td>\n",
       "      <td>0</td>\n",
       "      <td>0</td>\n",
       "      <td>0</td>\n",
       "      <td>0</td>\n",
       "      <td>0</td>\n",
       "      <td>0</td>\n",
       "      <td>0</td>\n",
       "      <td>0</td>\n",
       "      <td>0</td>\n",
       "      <td>4</td>\n",
       "    </tr>\n",
       "    <tr>\n",
       "      <th>3</th>\n",
       "      <td>3022</td>\n",
       "      <td>69</td>\n",
       "      <td>12</td>\n",
       "      <td>402</td>\n",
       "      <td>77</td>\n",
       "      <td>4245</td>\n",
       "      <td>232</td>\n",
       "      <td>217</td>\n",
       "      <td>115</td>\n",
       "      <td>1782</td>\n",
       "      <td>...</td>\n",
       "      <td>0</td>\n",
       "      <td>0</td>\n",
       "      <td>0</td>\n",
       "      <td>0</td>\n",
       "      <td>0</td>\n",
       "      <td>0</td>\n",
       "      <td>0</td>\n",
       "      <td>0</td>\n",
       "      <td>0</td>\n",
       "      <td>2</td>\n",
       "    </tr>\n",
       "    <tr>\n",
       "      <th>4</th>\n",
       "      <td>3190</td>\n",
       "      <td>60</td>\n",
       "      <td>14</td>\n",
       "      <td>90</td>\n",
       "      <td>29</td>\n",
       "      <td>1634</td>\n",
       "      <td>230</td>\n",
       "      <td>209</td>\n",
       "      <td>108</td>\n",
       "      <td>2301</td>\n",
       "      <td>...</td>\n",
       "      <td>0</td>\n",
       "      <td>1</td>\n",
       "      <td>0</td>\n",
       "      <td>0</td>\n",
       "      <td>0</td>\n",
       "      <td>0</td>\n",
       "      <td>0</td>\n",
       "      <td>0</td>\n",
       "      <td>0</td>\n",
       "      <td>1</td>\n",
       "    </tr>\n",
       "  </tbody>\n",
       "</table>\n",
       "<p>5 rows × 55 columns</p>\n",
       "</div>"
      ],
      "text/plain": [
       "   Elevation  Aspect  Slope  Horizontal_Distance_To_Hydrology  \\\n",
       "0       2631     104      4                                 0   \n",
       "1       3287     107     25                               459   \n",
       "2       2130     144     12                                30   \n",
       "3       3022      69     12                               402   \n",
       "4       3190      60     14                                90   \n",
       "\n",
       "   Vertical_Distance_To_Hydrology  Horizontal_Distance_To_Roadways  \\\n",
       "0                               0                              806   \n",
       "1                             130                             1144   \n",
       "2                               2                             1167   \n",
       "3                              77                             4245   \n",
       "4                              29                             1634   \n",
       "\n",
       "   Hillshade_9am  Hillshade_Noon  Hillshade_3pm  \\\n",
       "0            226             234            143   \n",
       "1            253             201             61   \n",
       "2            237             238            129   \n",
       "3            232             217            115   \n",
       "4            230             209            108   \n",
       "\n",
       "   Horizontal_Distance_To_Fire_Points  ...  Soil_Type32  Soil_Type33  \\\n",
       "0                                1761  ...            0            0   \n",
       "1                                1099  ...            0            0   \n",
       "2                                1423  ...            0            0   \n",
       "3                                1782  ...            0            0   \n",
       "4                                2301  ...            0            1   \n",
       "\n",
       "   Soil_Type34  Soil_Type35  Soil_Type36  Soil_Type37  Soil_Type38  \\\n",
       "0            0            0            0            0            0   \n",
       "1            0            0            0            0            0   \n",
       "2            0            0            0            0            0   \n",
       "3            0            0            0            0            0   \n",
       "4            0            0            0            0            0   \n",
       "\n",
       "   Soil_Type39  Soil_Type40  Covertype  \n",
       "0            0            0          2  \n",
       "1            0            1          7  \n",
       "2            0            0          4  \n",
       "3            0            0          2  \n",
       "4            0            0          1  \n",
       "\n",
       "[5 rows x 55 columns]"
      ]
     },
     "execution_count": 5,
     "metadata": {},
     "output_type": "execute_result"
    }
   ],
   "source": [
    "df.head()"
   ]
  },
  {
   "cell_type": "code",
   "execution_count": 7,
   "metadata": {
    "id": "OcUWpIquWsCC"
   },
   "outputs": [],
   "source": [
    "test_df=pd.read_csv('data/test_forest_cover.csv')"
   ]
  },
  {
   "cell_type": "code",
   "execution_count": 8,
   "metadata": {
    "colab": {
     "base_uri": "https://localhost:8080/",
     "height": 299
    },
    "id": "JXEB5noUXAzv",
    "outputId": "3d3ca9d8-c850-496e-f45d-bb16a33c8ee2"
   },
   "outputs": [
    {
     "data": {
      "text/html": [
       "<div>\n",
       "<style scoped>\n",
       "    .dataframe tbody tr th:only-of-type {\n",
       "        vertical-align: middle;\n",
       "    }\n",
       "\n",
       "    .dataframe tbody tr th {\n",
       "        vertical-align: top;\n",
       "    }\n",
       "\n",
       "    .dataframe thead th {\n",
       "        text-align: right;\n",
       "    }\n",
       "</style>\n",
       "<table border=\"1\" class=\"dataframe\">\n",
       "  <thead>\n",
       "    <tr style=\"text-align: right;\">\n",
       "      <th></th>\n",
       "      <th>Elevation</th>\n",
       "      <th>Aspect</th>\n",
       "      <th>Slope</th>\n",
       "      <th>Horizontal_Distance_To_Hydrology</th>\n",
       "      <th>Vertical_Distance_To_Hydrology</th>\n",
       "      <th>Horizontal_Distance_To_Roadways</th>\n",
       "      <th>Hillshade_9am</th>\n",
       "      <th>Hillshade_Noon</th>\n",
       "      <th>Hillshade_3pm</th>\n",
       "      <th>Horizontal_Distance_To_Fire_Points</th>\n",
       "      <th>...</th>\n",
       "      <th>Soil_Type32</th>\n",
       "      <th>Soil_Type33</th>\n",
       "      <th>Soil_Type34</th>\n",
       "      <th>Soil_Type35</th>\n",
       "      <th>Soil_Type36</th>\n",
       "      <th>Soil_Type37</th>\n",
       "      <th>Soil_Type38</th>\n",
       "      <th>Soil_Type39</th>\n",
       "      <th>Soil_Type40</th>\n",
       "      <th>Covertype</th>\n",
       "    </tr>\n",
       "  </thead>\n",
       "  <tbody>\n",
       "    <tr>\n",
       "      <th>0</th>\n",
       "      <td>2991</td>\n",
       "      <td>85</td>\n",
       "      <td>9</td>\n",
       "      <td>503</td>\n",
       "      <td>72</td>\n",
       "      <td>5124</td>\n",
       "      <td>233</td>\n",
       "      <td>225</td>\n",
       "      <td>124</td>\n",
       "      <td>5501</td>\n",
       "      <td>...</td>\n",
       "      <td>0</td>\n",
       "      <td>0</td>\n",
       "      <td>0</td>\n",
       "      <td>0</td>\n",
       "      <td>0</td>\n",
       "      <td>0</td>\n",
       "      <td>0</td>\n",
       "      <td>0</td>\n",
       "      <td>0</td>\n",
       "      <td>2</td>\n",
       "    </tr>\n",
       "    <tr>\n",
       "      <th>1</th>\n",
       "      <td>3360</td>\n",
       "      <td>185</td>\n",
       "      <td>13</td>\n",
       "      <td>566</td>\n",
       "      <td>102</td>\n",
       "      <td>4468</td>\n",
       "      <td>222</td>\n",
       "      <td>249</td>\n",
       "      <td>158</td>\n",
       "      <td>2561</td>\n",
       "      <td>...</td>\n",
       "      <td>0</td>\n",
       "      <td>1</td>\n",
       "      <td>0</td>\n",
       "      <td>0</td>\n",
       "      <td>0</td>\n",
       "      <td>0</td>\n",
       "      <td>0</td>\n",
       "      <td>0</td>\n",
       "      <td>0</td>\n",
       "      <td>7</td>\n",
       "    </tr>\n",
       "    <tr>\n",
       "      <th>2</th>\n",
       "      <td>3286</td>\n",
       "      <td>352</td>\n",
       "      <td>8</td>\n",
       "      <td>90</td>\n",
       "      <td>6</td>\n",
       "      <td>4097</td>\n",
       "      <td>206</td>\n",
       "      <td>226</td>\n",
       "      <td>158</td>\n",
       "      <td>1635</td>\n",
       "      <td>...</td>\n",
       "      <td>0</td>\n",
       "      <td>0</td>\n",
       "      <td>0</td>\n",
       "      <td>0</td>\n",
       "      <td>0</td>\n",
       "      <td>0</td>\n",
       "      <td>0</td>\n",
       "      <td>0</td>\n",
       "      <td>0</td>\n",
       "      <td>1</td>\n",
       "    </tr>\n",
       "    <tr>\n",
       "      <th>3</th>\n",
       "      <td>2861</td>\n",
       "      <td>103</td>\n",
       "      <td>13</td>\n",
       "      <td>607</td>\n",
       "      <td>29</td>\n",
       "      <td>450</td>\n",
       "      <td>242</td>\n",
       "      <td>222</td>\n",
       "      <td>108</td>\n",
       "      <td>1170</td>\n",
       "      <td>...</td>\n",
       "      <td>0</td>\n",
       "      <td>0</td>\n",
       "      <td>0</td>\n",
       "      <td>0</td>\n",
       "      <td>0</td>\n",
       "      <td>0</td>\n",
       "      <td>0</td>\n",
       "      <td>0</td>\n",
       "      <td>0</td>\n",
       "      <td>2</td>\n",
       "    </tr>\n",
       "    <tr>\n",
       "      <th>4</th>\n",
       "      <td>2834</td>\n",
       "      <td>97</td>\n",
       "      <td>9</td>\n",
       "      <td>108</td>\n",
       "      <td>13</td>\n",
       "      <td>1184</td>\n",
       "      <td>236</td>\n",
       "      <td>227</td>\n",
       "      <td>122</td>\n",
       "      <td>1832</td>\n",
       "      <td>...</td>\n",
       "      <td>0</td>\n",
       "      <td>0</td>\n",
       "      <td>0</td>\n",
       "      <td>0</td>\n",
       "      <td>0</td>\n",
       "      <td>0</td>\n",
       "      <td>0</td>\n",
       "      <td>0</td>\n",
       "      <td>0</td>\n",
       "      <td>2</td>\n",
       "    </tr>\n",
       "  </tbody>\n",
       "</table>\n",
       "<p>5 rows × 55 columns</p>\n",
       "</div>"
      ],
      "text/plain": [
       "   Elevation  Aspect  Slope  Horizontal_Distance_To_Hydrology  \\\n",
       "0       2991      85      9                               503   \n",
       "1       3360     185     13                               566   \n",
       "2       3286     352      8                                90   \n",
       "3       2861     103     13                               607   \n",
       "4       2834      97      9                               108   \n",
       "\n",
       "   Vertical_Distance_To_Hydrology  Horizontal_Distance_To_Roadways  \\\n",
       "0                              72                             5124   \n",
       "1                             102                             4468   \n",
       "2                               6                             4097   \n",
       "3                              29                              450   \n",
       "4                              13                             1184   \n",
       "\n",
       "   Hillshade_9am  Hillshade_Noon  Hillshade_3pm  \\\n",
       "0            233             225            124   \n",
       "1            222             249            158   \n",
       "2            206             226            158   \n",
       "3            242             222            108   \n",
       "4            236             227            122   \n",
       "\n",
       "   Horizontal_Distance_To_Fire_Points  ...  Soil_Type32  Soil_Type33  \\\n",
       "0                                5501  ...            0            0   \n",
       "1                                2561  ...            0            1   \n",
       "2                                1635  ...            0            0   \n",
       "3                                1170  ...            0            0   \n",
       "4                                1832  ...            0            0   \n",
       "\n",
       "   Soil_Type34  Soil_Type35  Soil_Type36  Soil_Type37  Soil_Type38  \\\n",
       "0            0            0            0            0            0   \n",
       "1            0            0            0            0            0   \n",
       "2            0            0            0            0            0   \n",
       "3            0            0            0            0            0   \n",
       "4            0            0            0            0            0   \n",
       "\n",
       "   Soil_Type39  Soil_Type40  Covertype  \n",
       "0            0            0          2  \n",
       "1            0            0          7  \n",
       "2            0            0          1  \n",
       "3            0            0          2  \n",
       "4            0            0          2  \n",
       "\n",
       "[5 rows x 55 columns]"
      ]
     },
     "execution_count": 8,
     "metadata": {},
     "output_type": "execute_result"
    }
   ],
   "source": [
    "test_df.head()"
   ]
  },
  {
   "cell_type": "code",
   "execution_count": 9,
   "metadata": {
    "id": "fekRUXYBXCV3"
   },
   "outputs": [],
   "source": [
    "X=df.drop(labels=['Covertype'],axis=1)"
   ]
  },
  {
   "cell_type": "code",
   "execution_count": 10,
   "metadata": {
    "id": "CtNZm5x9XhQv"
   },
   "outputs": [],
   "source": [
    "y=df['Covertype']"
   ]
  },
  {
   "cell_type": "code",
   "execution_count": 11,
   "metadata": {
    "id": "2K8B6-LbXoj8"
   },
   "outputs": [],
   "source": [
    "x_test=test_df.drop(labels=['Covertype'],axis=1)\n",
    "y_test=test_df['Covertype']"
   ]
  },
  {
   "cell_type": "code",
   "execution_count": 12,
   "metadata": {
    "id": "_CPmThs_XxVF"
   },
   "outputs": [],
   "source": [
    "x_train,x_valid,y_train,y_valid=train_test_split(X,y,train_size=0.8)"
   ]
  },
  {
   "cell_type": "code",
   "execution_count": 13,
   "metadata": {
    "colab": {
     "base_uri": "https://localhost:8080/"
    },
    "id": "CRRrz8z3zAnj",
    "outputId": "dfb460c2-42ab-4d36-e484-cd6296446211"
   },
   "outputs": [
    {
     "name": "stdout",
     "output_type": "stream",
     "text": [
      "Collecting pytorch-tabnet\n",
      "  Downloading pytorch_tabnet-3.1.1-py3-none-any.whl (39 kB)\n",
      "Requirement already satisfied: scipy>1.4 in /home/neham/anaconda3/envs/seathru/lib/python3.9/site-packages (from pytorch-tabnet) (1.6.2)\n",
      "Requirement already satisfied: torch<2.0,>=1.2 in /home/neham/anaconda3/envs/seathru/lib/python3.9/site-packages (from pytorch-tabnet) (1.7.1+cu101)\n",
      "Requirement already satisfied: tqdm<5.0,>=4.36 in /home/neham/anaconda3/envs/seathru/lib/python3.9/site-packages (from pytorch-tabnet) (4.60.0)\n",
      "Requirement already satisfied: numpy<2.0,>=1.17 in /home/neham/anaconda3/envs/seathru/lib/python3.9/site-packages (from pytorch-tabnet) (1.20.3)\n",
      "Requirement already satisfied: scikit_learn>0.21 in /home/neham/anaconda3/envs/seathru/lib/python3.9/site-packages (from pytorch-tabnet) (0.24.2)\n",
      "Requirement already satisfied: threadpoolctl>=2.0.0 in /home/neham/anaconda3/envs/seathru/lib/python3.9/site-packages (from scikit_learn>0.21->pytorch-tabnet) (2.1.0)\n",
      "Requirement already satisfied: joblib>=0.11 in /home/neham/anaconda3/envs/seathru/lib/python3.9/site-packages (from scikit_learn>0.21->pytorch-tabnet) (0.14.1)\n",
      "Requirement already satisfied: typing-extensions in /home/neham/anaconda3/envs/seathru/lib/python3.9/site-packages (from torch<2.0,>=1.2->pytorch-tabnet) (3.10.0.0)\n",
      "Installing collected packages: pytorch-tabnet\n",
      "Successfully installed pytorch-tabnet-3.1.1\n"
     ]
    }
   ],
   "source": [
    "! pip install pytorch-tabnet"
   ]
  },
  {
   "cell_type": "code",
   "execution_count": 14,
   "metadata": {
    "id": "bCdVg4CXzQIN"
   },
   "outputs": [],
   "source": [
    "from pytorch_tabnet.tab_model import TabNetClassifier\n",
    "\n",
    "import torch\n",
    "from sklearn.preprocessing import LabelEncoder\n",
    "from sklearn.metrics import accuracy_score\n",
    "np.random.seed(0)\n",
    "\n",
    "\n",
    "import os\n",
    "from pathlib import Path\n",
    "import shutil\n",
    "import gzip\n",
    "\n",
    "from matplotlib import pyplot as plt\n",
    "%matplotlib inline"
   ]
  },
  {
   "cell_type": "code",
   "execution_count": 15,
   "metadata": {
    "id": "9RB96YELzf9G"
   },
   "outputs": [],
   "source": [
    "# train=pd.read_csv('/content/data/train_covertype.csv')\n",
    "# test=pd.read_csv('/content/data/test_covertype.csv')\n",
    "# val=pd.read_csv('/content/data/val_covertype.csv')"
   ]
  },
  {
   "cell_type": "code",
   "execution_count": 16,
   "metadata": {
    "colab": {
     "base_uri": "https://localhost:8080/"
    },
    "id": "8ftBGh_70f0f",
    "outputId": "5da9d694-c04b-46e9-9bc0-f85f424aa890"
   },
   "outputs": [
    {
     "name": "stdout",
     "output_type": "stream",
     "text": [
      "Requirement already satisfied: fast_ml in /home/neham/anaconda3/envs/seathru/lib/python3.9/site-packages (3.68)\r\n"
     ]
    }
   ],
   "source": [
    "!pip install fast_ml"
   ]
  },
  {
   "cell_type": "code",
   "execution_count": 17,
   "metadata": {
    "colab": {
     "base_uri": "https://localhost:8080/"
    },
    "id": "_TBFKCB5t9Se",
    "outputId": "1c78b95a-8dab-484f-affd-cdd681d7b232"
   },
   "outputs": [
    {
     "name": "stdout",
     "output_type": "stream",
     "text": [
      "(371847, 54)\n",
      "(371847,)\n",
      "(92962, 54)\n",
      "(92962,)\n",
      "(116203, 54)\n",
      "(116203,)\n",
      "(464809, 55)\n"
     ]
    }
   ],
   "source": [
    "x_train = x_train.to_numpy()\n",
    "y_train = y_train.to_numpy()\n",
    "#y_train = np.expand_dims(y_train, axis=1)\n",
    "#y_train = convert_to_one_hot(y_train)\n",
    "\n",
    "\n",
    "x_valid = x_valid.to_numpy()\n",
    "y_valid = y_valid.to_numpy()\n",
    "#y_valid = np.expand_dims(y_valid, axis=1)\n",
    "#y_valid = convert_to_one_hot(y_valid)\n",
    "\n",
    "x_test = x_test.to_numpy()\n",
    "y_test = y_test.to_numpy()\n",
    "#y_test = np.expand_dims(y_test, axis=1)\n",
    "#y_test = convert_to_one_hot(y_test)\n",
    "\n",
    "print(x_train.shape)\n",
    "print(y_train.shape)\n",
    "\n",
    "print(x_valid.shape)\n",
    "print(y_valid.shape)\n",
    "\n",
    "print(x_test.shape)\n",
    "print(y_test.shape)\n",
    "\n",
    "\n",
    "print(df.shape)\n",
    "# y = df[df.columns[-1]]\n",
    "# y = y.to_numpy()\n",
    "target_cols = [\"Covertype\"]"
   ]
  },
  {
   "cell_type": "code",
   "execution_count": 18,
   "metadata": {
    "id": "4cQIPit30rxc"
   },
   "outputs": [],
   "source": [
    "from pytorch_tabnet.tab_model import TabNetClassifier, TabNetRegressor"
   ]
  },
  {
   "cell_type": "code",
   "execution_count": 19,
   "metadata": {
    "id": "ehT6opIV1Hcp"
   },
   "outputs": [],
   "source": [
    "from hyperopt import hp"
   ]
  },
  {
   "cell_type": "code",
   "execution_count": 20,
   "metadata": {
    "id": "LFYiZ_cP1Tv3"
   },
   "outputs": [],
   "source": [
    "import hyperopt"
   ]
  },
  {
   "cell_type": "code",
   "execution_count": 21,
   "metadata": {
    "id": "omqi0I5u1Uvc"
   },
   "outputs": [],
   "source": [
    "from sklearn.model_selection import KFold\n",
    "from sklearn.metrics import log_loss\n",
    "from sklearn.decomposition import PCA\n",
    "from sklearn.preprocessing import QuantileTransformer\n",
    "\n",
    "from hyperopt import fmin, tpe, Trials, STATUS_OK, STATUS_FAIL\n",
    "from hyperopt.pyll.base import scope\n",
    "from tqdm.notebook import tqdm\n",
    "\n",
    "import warnings\n",
    "warnings.filterwarnings('ignore')"
   ]
  },
  {
   "cell_type": "code",
   "execution_count": 22,
   "metadata": {
    "id": "tsONlCvzXTR8"
   },
   "outputs": [],
   "source": [
    "import torch\n",
    "import torch.nn as nn"
   ]
  },
  {
   "cell_type": "code",
   "execution_count": 23,
   "metadata": {
    "colab": {
     "base_uri": "https://localhost:8080/"
    },
    "id": "S0iNA7AAVqTE",
    "outputId": "ffb451b9-633b-4b73-b755-cc0281e1595e"
   },
   "outputs": [
    {
     "data": {
      "text/plain": [
       "(371847, 54)"
      ]
     },
     "execution_count": 23,
     "metadata": {},
     "output_type": "execute_result"
    }
   ],
   "source": [
    "x_train.shape"
   ]
  },
  {
   "cell_type": "code",
   "execution_count": 24,
   "metadata": {
    "id": "7yrQ0_k5IBnf"
   },
   "outputs": [],
   "source": [
    "def tb_ll_cv(space):\n",
    "  #print(\"hello\")\n",
    "  model=TabNetClassifier(n_a=int(space['n_a']), n_d=int(space['n_a']), n_steps=int(space['n_steps']), momentum=space['momentum'], gamma=space['gamma'], optimizer_params=dict(lr=space['lr']), device_name='cuda')\n",
    "  model.fit(x_train, y_train, eval_set=[(x_valid, y_valid)], batch_size=int(space['batch_size']),max_epochs=40,eval_metric=['logloss'])\n",
    "  print(model.history[\"val_0_logloss\"])\n",
    "  return min(model.history[\"val_0_logloss\"])\n"
   ]
  },
  {
   "cell_type": "code",
   "execution_count": 25,
   "metadata": {
    "id": "JijpC5Xt1Yib"
   },
   "outputs": [],
   "source": [
    "reg_params = {'n_a': hp.quniform('feature_dim', 20, 60, 1),'n_steps': hp.quniform('n_steps', 1, 8, 1),'momentum': hp.uniform('momentum', np.exp(-5), np.exp(-1)),'gamma': hp.uniform('relaxation_factor', 0.3, 2),\n",
    "    'batch_size': hp.choice('batch_size',[512, 1024, 2048, 4096, 8192]), 'lr':hp.loguniform('learning_rate', -5, 0)\n",
    "}"
   ]
  },
  {
   "cell_type": "code",
   "execution_count": null,
   "metadata": {
    "colab": {
     "base_uri": "https://localhost:8080/"
    },
    "id": "1MF2xcftPs66",
    "outputId": "1d316a6d-f15d-4cbd-d950-ca225d1aa676"
   },
   "outputs": [
    {
     "name": "stdout",
     "output_type": "stream",
     "text": [
      "Device used : cuda                                    \n",
      "epoch 0  | loss: 0.73186 | val_0_logloss: 0.68808 |  0:00:23s\n",
      "epoch 1  | loss: 0.60039 | val_0_logloss: 0.5601  |  0:00:47s\n",
      "epoch 2  | loss: 0.5558  | val_0_logloss: 0.5059  |  0:01:10s\n",
      "  0%|          | 0/10 [01:13<?, ?trial/s, best loss=?]"
     ]
    }
   ],
   "source": [
    "trials=Trials()\n",
    "best=fmin(fn=tb_ll_cv, space=reg_params, algo=tpe.suggest, max_evals=15, trials=trials)"
   ]
  },
  {
   "cell_type": "code",
   "execution_count": null,
   "metadata": {
    "colab": {
     "base_uri": "https://localhost:8080/"
    },
    "id": "Io68SETkvGYX",
    "outputId": "6bc0c5da-2dab-4b73-b3c2-f3794ea501ee"
   },
   "outputs": [],
   "source": [
    "best"
   ]
  },
  {
   "cell_type": "code",
   "execution_count": null,
   "metadata": {
    "id": "j_A67Km2ZVsh"
   },
   "outputs": [],
   "source": [
    "l_batch=[512, 1024, 2048, 4096, 8192]"
   ]
  },
  {
   "cell_type": "code",
   "execution_count": null,
   "metadata": {
    "colab": {
     "base_uri": "https://localhost:8080/"
    },
    "id": "UXNvR6UYvHqm",
    "outputId": "1b8ea49d-a262-4509-a4ca-284ccc968fe6"
   },
   "outputs": [],
   "source": [
    "model=TabNetClassifier(n_a=int(best['feature_dim']), n_d=int(best['feature_dim']), n_steps=int(best['n_steps']), momentum=best['momentum'], gamma=best['relaxation_factor'], optimizer_params=dict(lr=best['learning_rate']), device_name='cuda')\n",
    "model.fit(x_train, y_train, eval_set=[(x_valid, y_valid)], batch_size=l_batch[best['batch_size']],max_epochs=100,eval_metric=['logloss'])"
   ]
  },
  {
   "cell_type": "code",
   "execution_count": null,
   "metadata": {
    "colab": {
     "base_uri": "https://localhost:8080/"
    },
    "id": "2iJvtp-6vKbW",
    "outputId": "000595e7-aebc-45f1-b1e0-52b8878e4dcc"
   },
   "outputs": [],
   "source": [
    "criterion = nn.CrossEntropyLoss()\n",
    "loss1 = criterion(torch.from_numpy(model.predict_proba(x_test)),torch.from_numpy(y_test))\n",
    "print(loss1)"
   ]
  },
  {
   "cell_type": "code",
   "execution_count": null,
   "metadata": {
    "colab": {
     "base_uri": "https://localhost:8080/"
    },
    "id": "QcOy13oJgBz5",
    "outputId": "00f1f04b-7417-4e7a-d372-39b0ad7e46b8"
   },
   "outputs": [],
   "source": [
    "y_test"
   ]
  },
  {
   "cell_type": "code",
   "execution_count": null,
   "metadata": {
    "colab": {
     "base_uri": "https://localhost:8080/"
    },
    "id": "tEClaFjrgDUr",
    "outputId": "ba14b950-6004-4103-f4d2-b7d1aad51add"
   },
   "outputs": [],
   "source": [
    "model.predict(x_test)"
   ]
  },
  {
   "cell_type": "code",
   "execution_count": null,
   "metadata": {
    "colab": {
     "base_uri": "https://localhost:8080/"
    },
    "id": "Sr7RnOsLgGl-",
    "outputId": "7bf81c5b-90f4-422f-8448-101cf59bd074"
   },
   "outputs": [],
   "source": [
    "model.predict_proba(x_test)"
   ]
  },
  {
   "cell_type": "code",
   "execution_count": null,
   "metadata": {
    "id": "sWtl4k0qgnX9"
   },
   "outputs": [],
   "source": [
    "a=model.predict_proba(x_test)"
   ]
  },
  {
   "cell_type": "code",
   "execution_count": null,
   "metadata": {
    "id": "xL0Ieb2sgYj5"
   },
   "outputs": [],
   "source": [
    "pd.DataFrame(a).to_csv(\"data_preds.csv\")"
   ]
  },
  {
   "cell_type": "code",
   "execution_count": null,
   "metadata": {},
   "outputs": [],
   "source": []
  }
 ],
 "metadata": {
  "accelerator": "GPU",
  "colab": {
   "collapsed_sections": [],
   "name": "data_forest_hyper.ipynb",
   "provenance": []
  },
  "kernelspec": {
   "display_name": "Python 3",
   "language": "python",
   "name": "python3"
  },
  "language_info": {
   "codemirror_mode": {
    "name": "ipython",
    "version": 3
   },
   "file_extension": ".py",
   "mimetype": "text/x-python",
   "name": "python",
   "nbconvert_exporter": "python",
   "pygments_lexer": "ipython3",
   "version": "3.9.5"
  }
 },
 "nbformat": 4,
 "nbformat_minor": 1
}
